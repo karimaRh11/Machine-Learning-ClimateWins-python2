{
 "cells": [
  {
   "cell_type": "code",
   "execution_count": 132,
   "id": "c3b9f0fb-602b-4ae5-8afe-c30bba72b5e3",
   "metadata": {},
   "outputs": [],
   "source": [
    "# importing libraries \n",
    "import pandas as pd\n",
    "import numpy as np\n",
    "import seaborn as sns\n",
    "import matplotlib\n",
    "import matplotlib.pyplot as plt\n",
    "import os\n",
    "import sklearn\n",
    "from sklearn.preprocessing import StandardScaler\n",
    "from scipy.cluster.hierarchy import dendrogram, linkage, fcluster\n",
    "from sklearn.decomposition import PCA\n",
    "from tensorflow.keras.models import Sequential\n",
    "from tensorflow.keras.layers import Conv1D, MaxPooling1D, Flatten, Dense, Dropout\n",
    "from tensorflow.keras.utils import to_categorical\n",
    "from sklearn.model_selection import train_test_split\n",
    "from sklearn.metrics import confusion_matrix"
   ]
  },
  {
   "cell_type": "code",
   "execution_count": 34,
   "id": "c14d2bb7-6996-45ab-a5b0-6755afa2aef3",
   "metadata": {},
   "outputs": [],
   "source": [
    "#importing the weather dataframe\n",
    "path = r'C:\\Users\\karim\\Documents\\machine learning'\n",
    "df_weather2= pd.read_csv(os.path.join(path, 'data', 'original Data', 'Dataset-weather-prediction-dataset-processed.csv'))\n"
   ]
  },
  {
   "cell_type": "code",
   "execution_count": 35,
   "id": "7e7e50e3-556d-4544-80b4-0c14781d9d4d",
   "metadata": {},
   "outputs": [],
   "source": [
    "df_answers = pd.read_csv(os.path.join(path, 'data', 'original Data', 'Dataset-Answers-Weather_Prediction_Pleasant_Weather.csv'))"
   ]
  },
  {
   "cell_type": "code",
   "execution_count": 36,
   "id": "6b4a3c5f-fcf6-4a9d-ad21-37fb30b23f20",
   "metadata": {},
   "outputs": [
    {
     "data": {
      "text/plain": [
       "(22950, 170)"
      ]
     },
     "execution_count": 36,
     "metadata": {},
     "output_type": "execute_result"
    }
   ],
   "source": [
    "df_weather2.shape"
   ]
  },
  {
   "cell_type": "code",
   "execution_count": 37,
   "id": "5bf3e41b-e991-418f-98ce-a7d968c66a06",
   "metadata": {},
   "outputs": [
    {
     "data": {
      "text/html": [
       "<div>\n",
       "<style scoped>\n",
       "    .dataframe tbody tr th:only-of-type {\n",
       "        vertical-align: middle;\n",
       "    }\n",
       "\n",
       "    .dataframe tbody tr th {\n",
       "        vertical-align: top;\n",
       "    }\n",
       "\n",
       "    .dataframe thead th {\n",
       "        text-align: right;\n",
       "    }\n",
       "</style>\n",
       "<table border=\"1\" class=\"dataframe\">\n",
       "  <thead>\n",
       "    <tr style=\"text-align: right;\">\n",
       "      <th></th>\n",
       "      <th>DATE</th>\n",
       "      <th>MONTH</th>\n",
       "      <th>BASEL_cloud_cover</th>\n",
       "      <th>BASEL_wind_speed</th>\n",
       "      <th>BASEL_humidity</th>\n",
       "      <th>BASEL_pressure</th>\n",
       "      <th>BASEL_global_radiation</th>\n",
       "      <th>BASEL_precipitation</th>\n",
       "      <th>BASEL_snow_depth</th>\n",
       "      <th>BASEL_sunshine</th>\n",
       "      <th>...</th>\n",
       "      <th>VALENTIA_cloud_cover</th>\n",
       "      <th>VALENTIA_humidity</th>\n",
       "      <th>VALENTIA_pressure</th>\n",
       "      <th>VALENTIA_global_radiation</th>\n",
       "      <th>VALENTIA_precipitation</th>\n",
       "      <th>VALENTIA_snow_depth</th>\n",
       "      <th>VALENTIA_sunshine</th>\n",
       "      <th>VALENTIA_temp_mean</th>\n",
       "      <th>VALENTIA_temp_min</th>\n",
       "      <th>VALENTIA_temp_max</th>\n",
       "    </tr>\n",
       "  </thead>\n",
       "  <tbody>\n",
       "    <tr>\n",
       "      <th>0</th>\n",
       "      <td>19600101</td>\n",
       "      <td>1</td>\n",
       "      <td>7</td>\n",
       "      <td>2.1</td>\n",
       "      <td>0.85</td>\n",
       "      <td>1.0180</td>\n",
       "      <td>0.32</td>\n",
       "      <td>0.09</td>\n",
       "      <td>0</td>\n",
       "      <td>0.7</td>\n",
       "      <td>...</td>\n",
       "      <td>5</td>\n",
       "      <td>0.88</td>\n",
       "      <td>1.0003</td>\n",
       "      <td>0.45</td>\n",
       "      <td>0.34</td>\n",
       "      <td>0</td>\n",
       "      <td>4.7</td>\n",
       "      <td>8.5</td>\n",
       "      <td>6.0</td>\n",
       "      <td>10.9</td>\n",
       "    </tr>\n",
       "    <tr>\n",
       "      <th>1</th>\n",
       "      <td>19600102</td>\n",
       "      <td>1</td>\n",
       "      <td>6</td>\n",
       "      <td>2.1</td>\n",
       "      <td>0.84</td>\n",
       "      <td>1.0180</td>\n",
       "      <td>0.36</td>\n",
       "      <td>1.05</td>\n",
       "      <td>0</td>\n",
       "      <td>1.1</td>\n",
       "      <td>...</td>\n",
       "      <td>7</td>\n",
       "      <td>0.91</td>\n",
       "      <td>1.0007</td>\n",
       "      <td>0.25</td>\n",
       "      <td>0.84</td>\n",
       "      <td>0</td>\n",
       "      <td>0.7</td>\n",
       "      <td>8.9</td>\n",
       "      <td>5.6</td>\n",
       "      <td>12.1</td>\n",
       "    </tr>\n",
       "    <tr>\n",
       "      <th>2</th>\n",
       "      <td>19600103</td>\n",
       "      <td>1</td>\n",
       "      <td>8</td>\n",
       "      <td>2.1</td>\n",
       "      <td>0.90</td>\n",
       "      <td>1.0180</td>\n",
       "      <td>0.18</td>\n",
       "      <td>0.30</td>\n",
       "      <td>0</td>\n",
       "      <td>0.0</td>\n",
       "      <td>...</td>\n",
       "      <td>7</td>\n",
       "      <td>0.91</td>\n",
       "      <td>1.0096</td>\n",
       "      <td>0.17</td>\n",
       "      <td>0.08</td>\n",
       "      <td>0</td>\n",
       "      <td>0.1</td>\n",
       "      <td>10.5</td>\n",
       "      <td>8.1</td>\n",
       "      <td>12.9</td>\n",
       "    </tr>\n",
       "    <tr>\n",
       "      <th>3</th>\n",
       "      <td>19600104</td>\n",
       "      <td>1</td>\n",
       "      <td>3</td>\n",
       "      <td>2.1</td>\n",
       "      <td>0.92</td>\n",
       "      <td>1.0180</td>\n",
       "      <td>0.58</td>\n",
       "      <td>0.00</td>\n",
       "      <td>0</td>\n",
       "      <td>4.1</td>\n",
       "      <td>...</td>\n",
       "      <td>7</td>\n",
       "      <td>0.86</td>\n",
       "      <td>1.0184</td>\n",
       "      <td>0.13</td>\n",
       "      <td>0.98</td>\n",
       "      <td>0</td>\n",
       "      <td>0.0</td>\n",
       "      <td>7.4</td>\n",
       "      <td>7.3</td>\n",
       "      <td>10.6</td>\n",
       "    </tr>\n",
       "    <tr>\n",
       "      <th>4</th>\n",
       "      <td>19600105</td>\n",
       "      <td>1</td>\n",
       "      <td>6</td>\n",
       "      <td>2.1</td>\n",
       "      <td>0.95</td>\n",
       "      <td>1.0180</td>\n",
       "      <td>0.65</td>\n",
       "      <td>0.14</td>\n",
       "      <td>0</td>\n",
       "      <td>5.4</td>\n",
       "      <td>...</td>\n",
       "      <td>3</td>\n",
       "      <td>0.80</td>\n",
       "      <td>1.0328</td>\n",
       "      <td>0.46</td>\n",
       "      <td>0.00</td>\n",
       "      <td>0</td>\n",
       "      <td>5.7</td>\n",
       "      <td>5.7</td>\n",
       "      <td>3.0</td>\n",
       "      <td>8.4</td>\n",
       "    </tr>\n",
       "    <tr>\n",
       "      <th>...</th>\n",
       "      <td>...</td>\n",
       "      <td>...</td>\n",
       "      <td>...</td>\n",
       "      <td>...</td>\n",
       "      <td>...</td>\n",
       "      <td>...</td>\n",
       "      <td>...</td>\n",
       "      <td>...</td>\n",
       "      <td>...</td>\n",
       "      <td>...</td>\n",
       "      <td>...</td>\n",
       "      <td>...</td>\n",
       "      <td>...</td>\n",
       "      <td>...</td>\n",
       "      <td>...</td>\n",
       "      <td>...</td>\n",
       "      <td>...</td>\n",
       "      <td>...</td>\n",
       "      <td>...</td>\n",
       "      <td>...</td>\n",
       "      <td>...</td>\n",
       "    </tr>\n",
       "    <tr>\n",
       "      <th>22945</th>\n",
       "      <td>20221027</td>\n",
       "      <td>10</td>\n",
       "      <td>1</td>\n",
       "      <td>2.1</td>\n",
       "      <td>0.79</td>\n",
       "      <td>1.0248</td>\n",
       "      <td>1.34</td>\n",
       "      <td>0.22</td>\n",
       "      <td>0</td>\n",
       "      <td>7.7</td>\n",
       "      <td>...</td>\n",
       "      <td>5</td>\n",
       "      <td>0.82</td>\n",
       "      <td>1.0142</td>\n",
       "      <td>1.13</td>\n",
       "      <td>0.41</td>\n",
       "      <td>0</td>\n",
       "      <td>3.4</td>\n",
       "      <td>10.7</td>\n",
       "      <td>7.9</td>\n",
       "      <td>13.5</td>\n",
       "    </tr>\n",
       "    <tr>\n",
       "      <th>22946</th>\n",
       "      <td>20221028</td>\n",
       "      <td>10</td>\n",
       "      <td>6</td>\n",
       "      <td>2.1</td>\n",
       "      <td>0.77</td>\n",
       "      <td>1.0244</td>\n",
       "      <td>1.34</td>\n",
       "      <td>0.22</td>\n",
       "      <td>0</td>\n",
       "      <td>5.4</td>\n",
       "      <td>...</td>\n",
       "      <td>5</td>\n",
       "      <td>0.82</td>\n",
       "      <td>1.0142</td>\n",
       "      <td>1.13</td>\n",
       "      <td>0.41</td>\n",
       "      <td>0</td>\n",
       "      <td>3.4</td>\n",
       "      <td>10.7</td>\n",
       "      <td>7.9</td>\n",
       "      <td>13.5</td>\n",
       "    </tr>\n",
       "    <tr>\n",
       "      <th>22947</th>\n",
       "      <td>20221029</td>\n",
       "      <td>10</td>\n",
       "      <td>4</td>\n",
       "      <td>2.1</td>\n",
       "      <td>0.76</td>\n",
       "      <td>1.0227</td>\n",
       "      <td>1.34</td>\n",
       "      <td>0.22</td>\n",
       "      <td>0</td>\n",
       "      <td>6.1</td>\n",
       "      <td>...</td>\n",
       "      <td>5</td>\n",
       "      <td>0.82</td>\n",
       "      <td>1.0142</td>\n",
       "      <td>1.13</td>\n",
       "      <td>0.41</td>\n",
       "      <td>0</td>\n",
       "      <td>3.4</td>\n",
       "      <td>10.7</td>\n",
       "      <td>7.9</td>\n",
       "      <td>13.5</td>\n",
       "    </tr>\n",
       "    <tr>\n",
       "      <th>22948</th>\n",
       "      <td>20221030</td>\n",
       "      <td>10</td>\n",
       "      <td>5</td>\n",
       "      <td>2.1</td>\n",
       "      <td>0.80</td>\n",
       "      <td>1.0212</td>\n",
       "      <td>1.34</td>\n",
       "      <td>0.22</td>\n",
       "      <td>0</td>\n",
       "      <td>5.8</td>\n",
       "      <td>...</td>\n",
       "      <td>5</td>\n",
       "      <td>0.82</td>\n",
       "      <td>1.0142</td>\n",
       "      <td>1.13</td>\n",
       "      <td>0.41</td>\n",
       "      <td>0</td>\n",
       "      <td>3.4</td>\n",
       "      <td>10.7</td>\n",
       "      <td>7.9</td>\n",
       "      <td>13.5</td>\n",
       "    </tr>\n",
       "    <tr>\n",
       "      <th>22949</th>\n",
       "      <td>20221031</td>\n",
       "      <td>10</td>\n",
       "      <td>5</td>\n",
       "      <td>2.1</td>\n",
       "      <td>0.84</td>\n",
       "      <td>1.0193</td>\n",
       "      <td>1.34</td>\n",
       "      <td>0.22</td>\n",
       "      <td>0</td>\n",
       "      <td>3.2</td>\n",
       "      <td>...</td>\n",
       "      <td>5</td>\n",
       "      <td>0.82</td>\n",
       "      <td>1.0142</td>\n",
       "      <td>1.13</td>\n",
       "      <td>0.41</td>\n",
       "      <td>0</td>\n",
       "      <td>3.4</td>\n",
       "      <td>10.7</td>\n",
       "      <td>7.9</td>\n",
       "      <td>13.5</td>\n",
       "    </tr>\n",
       "  </tbody>\n",
       "</table>\n",
       "<p>22950 rows × 170 columns</p>\n",
       "</div>"
      ],
      "text/plain": [
       "           DATE  MONTH  BASEL_cloud_cover  BASEL_wind_speed  BASEL_humidity  \\\n",
       "0      19600101      1                  7               2.1            0.85   \n",
       "1      19600102      1                  6               2.1            0.84   \n",
       "2      19600103      1                  8               2.1            0.90   \n",
       "3      19600104      1                  3               2.1            0.92   \n",
       "4      19600105      1                  6               2.1            0.95   \n",
       "...         ...    ...                ...               ...             ...   \n",
       "22945  20221027     10                  1               2.1            0.79   \n",
       "22946  20221028     10                  6               2.1            0.77   \n",
       "22947  20221029     10                  4               2.1            0.76   \n",
       "22948  20221030     10                  5               2.1            0.80   \n",
       "22949  20221031     10                  5               2.1            0.84   \n",
       "\n",
       "       BASEL_pressure  BASEL_global_radiation  BASEL_precipitation  \\\n",
       "0              1.0180                    0.32                 0.09   \n",
       "1              1.0180                    0.36                 1.05   \n",
       "2              1.0180                    0.18                 0.30   \n",
       "3              1.0180                    0.58                 0.00   \n",
       "4              1.0180                    0.65                 0.14   \n",
       "...               ...                     ...                  ...   \n",
       "22945          1.0248                    1.34                 0.22   \n",
       "22946          1.0244                    1.34                 0.22   \n",
       "22947          1.0227                    1.34                 0.22   \n",
       "22948          1.0212                    1.34                 0.22   \n",
       "22949          1.0193                    1.34                 0.22   \n",
       "\n",
       "       BASEL_snow_depth  BASEL_sunshine  ...  VALENTIA_cloud_cover  \\\n",
       "0                     0             0.7  ...                     5   \n",
       "1                     0             1.1  ...                     7   \n",
       "2                     0             0.0  ...                     7   \n",
       "3                     0             4.1  ...                     7   \n",
       "4                     0             5.4  ...                     3   \n",
       "...                 ...             ...  ...                   ...   \n",
       "22945                 0             7.7  ...                     5   \n",
       "22946                 0             5.4  ...                     5   \n",
       "22947                 0             6.1  ...                     5   \n",
       "22948                 0             5.8  ...                     5   \n",
       "22949                 0             3.2  ...                     5   \n",
       "\n",
       "       VALENTIA_humidity  VALENTIA_pressure  VALENTIA_global_radiation  \\\n",
       "0                   0.88             1.0003                       0.45   \n",
       "1                   0.91             1.0007                       0.25   \n",
       "2                   0.91             1.0096                       0.17   \n",
       "3                   0.86             1.0184                       0.13   \n",
       "4                   0.80             1.0328                       0.46   \n",
       "...                  ...                ...                        ...   \n",
       "22945               0.82             1.0142                       1.13   \n",
       "22946               0.82             1.0142                       1.13   \n",
       "22947               0.82             1.0142                       1.13   \n",
       "22948               0.82             1.0142                       1.13   \n",
       "22949               0.82             1.0142                       1.13   \n",
       "\n",
       "       VALENTIA_precipitation  VALENTIA_snow_depth  VALENTIA_sunshine  \\\n",
       "0                        0.34                    0                4.7   \n",
       "1                        0.84                    0                0.7   \n",
       "2                        0.08                    0                0.1   \n",
       "3                        0.98                    0                0.0   \n",
       "4                        0.00                    0                5.7   \n",
       "...                       ...                  ...                ...   \n",
       "22945                    0.41                    0                3.4   \n",
       "22946                    0.41                    0                3.4   \n",
       "22947                    0.41                    0                3.4   \n",
       "22948                    0.41                    0                3.4   \n",
       "22949                    0.41                    0                3.4   \n",
       "\n",
       "       VALENTIA_temp_mean  VALENTIA_temp_min  VALENTIA_temp_max  \n",
       "0                     8.5                6.0               10.9  \n",
       "1                     8.9                5.6               12.1  \n",
       "2                    10.5                8.1               12.9  \n",
       "3                     7.4                7.3               10.6  \n",
       "4                     5.7                3.0                8.4  \n",
       "...                   ...                ...                ...  \n",
       "22945                10.7                7.9               13.5  \n",
       "22946                10.7                7.9               13.5  \n",
       "22947                10.7                7.9               13.5  \n",
       "22948                10.7                7.9               13.5  \n",
       "22949                10.7                7.9               13.5  \n",
       "\n",
       "[22950 rows x 170 columns]"
      ]
     },
     "execution_count": 37,
     "metadata": {},
     "output_type": "execute_result"
    }
   ],
   "source": [
    "df_weather2"
   ]
  },
  {
   "cell_type": "code",
   "execution_count": 38,
   "id": "6a8c3e0c-65f6-4208-9e28-bcb3b4c08514",
   "metadata": {
    "scrolled": true
   },
   "outputs": [
    {
     "data": {
      "text/html": [
       "<div>\n",
       "<style scoped>\n",
       "    .dataframe tbody tr th:only-of-type {\n",
       "        vertical-align: middle;\n",
       "    }\n",
       "\n",
       "    .dataframe tbody tr th {\n",
       "        vertical-align: top;\n",
       "    }\n",
       "\n",
       "    .dataframe thead th {\n",
       "        text-align: right;\n",
       "    }\n",
       "</style>\n",
       "<table border=\"1\" class=\"dataframe\">\n",
       "  <thead>\n",
       "    <tr style=\"text-align: right;\">\n",
       "      <th></th>\n",
       "      <th>DATE</th>\n",
       "      <th>BASEL_pleasant_weather</th>\n",
       "      <th>BELGRADE_pleasant_weather</th>\n",
       "      <th>BUDAPEST_pleasant_weather</th>\n",
       "      <th>DEBILT_pleasant_weather</th>\n",
       "      <th>DUSSELDORF_pleasant_weather</th>\n",
       "      <th>HEATHROW_pleasant_weather</th>\n",
       "      <th>KASSEL_pleasant_weather</th>\n",
       "      <th>LJUBLJANA_pleasant_weather</th>\n",
       "      <th>MAASTRICHT_pleasant_weather</th>\n",
       "      <th>MADRID_pleasant_weather</th>\n",
       "      <th>MUNCHENB_pleasant_weather</th>\n",
       "      <th>OSLO_pleasant_weather</th>\n",
       "      <th>SONNBLICK_pleasant_weather</th>\n",
       "      <th>STOCKHOLM_pleasant_weather</th>\n",
       "      <th>VALENTIA_pleasant_weather</th>\n",
       "    </tr>\n",
       "  </thead>\n",
       "  <tbody>\n",
       "    <tr>\n",
       "      <th>0</th>\n",
       "      <td>19600101</td>\n",
       "      <td>0</td>\n",
       "      <td>0</td>\n",
       "      <td>0</td>\n",
       "      <td>0</td>\n",
       "      <td>0</td>\n",
       "      <td>0</td>\n",
       "      <td>0</td>\n",
       "      <td>0</td>\n",
       "      <td>0</td>\n",
       "      <td>0</td>\n",
       "      <td>0</td>\n",
       "      <td>0</td>\n",
       "      <td>0</td>\n",
       "      <td>0</td>\n",
       "      <td>0</td>\n",
       "    </tr>\n",
       "    <tr>\n",
       "      <th>1</th>\n",
       "      <td>19600102</td>\n",
       "      <td>0</td>\n",
       "      <td>0</td>\n",
       "      <td>0</td>\n",
       "      <td>0</td>\n",
       "      <td>0</td>\n",
       "      <td>0</td>\n",
       "      <td>0</td>\n",
       "      <td>0</td>\n",
       "      <td>0</td>\n",
       "      <td>0</td>\n",
       "      <td>0</td>\n",
       "      <td>0</td>\n",
       "      <td>0</td>\n",
       "      <td>0</td>\n",
       "      <td>0</td>\n",
       "    </tr>\n",
       "    <tr>\n",
       "      <th>2</th>\n",
       "      <td>19600103</td>\n",
       "      <td>0</td>\n",
       "      <td>0</td>\n",
       "      <td>0</td>\n",
       "      <td>0</td>\n",
       "      <td>0</td>\n",
       "      <td>0</td>\n",
       "      <td>0</td>\n",
       "      <td>0</td>\n",
       "      <td>0</td>\n",
       "      <td>0</td>\n",
       "      <td>0</td>\n",
       "      <td>0</td>\n",
       "      <td>0</td>\n",
       "      <td>0</td>\n",
       "      <td>0</td>\n",
       "    </tr>\n",
       "    <tr>\n",
       "      <th>3</th>\n",
       "      <td>19600104</td>\n",
       "      <td>0</td>\n",
       "      <td>0</td>\n",
       "      <td>0</td>\n",
       "      <td>0</td>\n",
       "      <td>0</td>\n",
       "      <td>0</td>\n",
       "      <td>0</td>\n",
       "      <td>0</td>\n",
       "      <td>0</td>\n",
       "      <td>0</td>\n",
       "      <td>0</td>\n",
       "      <td>0</td>\n",
       "      <td>0</td>\n",
       "      <td>0</td>\n",
       "      <td>0</td>\n",
       "    </tr>\n",
       "    <tr>\n",
       "      <th>4</th>\n",
       "      <td>19600105</td>\n",
       "      <td>0</td>\n",
       "      <td>0</td>\n",
       "      <td>0</td>\n",
       "      <td>0</td>\n",
       "      <td>0</td>\n",
       "      <td>0</td>\n",
       "      <td>0</td>\n",
       "      <td>0</td>\n",
       "      <td>0</td>\n",
       "      <td>0</td>\n",
       "      <td>0</td>\n",
       "      <td>0</td>\n",
       "      <td>0</td>\n",
       "      <td>0</td>\n",
       "      <td>0</td>\n",
       "    </tr>\n",
       "    <tr>\n",
       "      <th>...</th>\n",
       "      <td>...</td>\n",
       "      <td>...</td>\n",
       "      <td>...</td>\n",
       "      <td>...</td>\n",
       "      <td>...</td>\n",
       "      <td>...</td>\n",
       "      <td>...</td>\n",
       "      <td>...</td>\n",
       "      <td>...</td>\n",
       "      <td>...</td>\n",
       "      <td>...</td>\n",
       "      <td>...</td>\n",
       "      <td>...</td>\n",
       "      <td>...</td>\n",
       "      <td>...</td>\n",
       "      <td>...</td>\n",
       "    </tr>\n",
       "    <tr>\n",
       "      <th>22945</th>\n",
       "      <td>20221027</td>\n",
       "      <td>0</td>\n",
       "      <td>0</td>\n",
       "      <td>0</td>\n",
       "      <td>0</td>\n",
       "      <td>0</td>\n",
       "      <td>0</td>\n",
       "      <td>0</td>\n",
       "      <td>0</td>\n",
       "      <td>0</td>\n",
       "      <td>0</td>\n",
       "      <td>0</td>\n",
       "      <td>0</td>\n",
       "      <td>0</td>\n",
       "      <td>0</td>\n",
       "      <td>0</td>\n",
       "    </tr>\n",
       "    <tr>\n",
       "      <th>22946</th>\n",
       "      <td>20221028</td>\n",
       "      <td>0</td>\n",
       "      <td>0</td>\n",
       "      <td>0</td>\n",
       "      <td>0</td>\n",
       "      <td>0</td>\n",
       "      <td>0</td>\n",
       "      <td>0</td>\n",
       "      <td>0</td>\n",
       "      <td>0</td>\n",
       "      <td>0</td>\n",
       "      <td>0</td>\n",
       "      <td>0</td>\n",
       "      <td>0</td>\n",
       "      <td>0</td>\n",
       "      <td>0</td>\n",
       "    </tr>\n",
       "    <tr>\n",
       "      <th>22947</th>\n",
       "      <td>20221029</td>\n",
       "      <td>0</td>\n",
       "      <td>0</td>\n",
       "      <td>0</td>\n",
       "      <td>0</td>\n",
       "      <td>0</td>\n",
       "      <td>0</td>\n",
       "      <td>0</td>\n",
       "      <td>0</td>\n",
       "      <td>0</td>\n",
       "      <td>0</td>\n",
       "      <td>0</td>\n",
       "      <td>0</td>\n",
       "      <td>0</td>\n",
       "      <td>0</td>\n",
       "      <td>0</td>\n",
       "    </tr>\n",
       "    <tr>\n",
       "      <th>22948</th>\n",
       "      <td>20221030</td>\n",
       "      <td>0</td>\n",
       "      <td>0</td>\n",
       "      <td>0</td>\n",
       "      <td>0</td>\n",
       "      <td>0</td>\n",
       "      <td>0</td>\n",
       "      <td>0</td>\n",
       "      <td>0</td>\n",
       "      <td>0</td>\n",
       "      <td>0</td>\n",
       "      <td>0</td>\n",
       "      <td>0</td>\n",
       "      <td>0</td>\n",
       "      <td>0</td>\n",
       "      <td>0</td>\n",
       "    </tr>\n",
       "    <tr>\n",
       "      <th>22949</th>\n",
       "      <td>20221031</td>\n",
       "      <td>0</td>\n",
       "      <td>0</td>\n",
       "      <td>0</td>\n",
       "      <td>0</td>\n",
       "      <td>0</td>\n",
       "      <td>0</td>\n",
       "      <td>0</td>\n",
       "      <td>0</td>\n",
       "      <td>0</td>\n",
       "      <td>0</td>\n",
       "      <td>0</td>\n",
       "      <td>0</td>\n",
       "      <td>0</td>\n",
       "      <td>0</td>\n",
       "      <td>0</td>\n",
       "    </tr>\n",
       "  </tbody>\n",
       "</table>\n",
       "<p>22950 rows × 16 columns</p>\n",
       "</div>"
      ],
      "text/plain": [
       "           DATE  BASEL_pleasant_weather  BELGRADE_pleasant_weather  \\\n",
       "0      19600101                       0                          0   \n",
       "1      19600102                       0                          0   \n",
       "2      19600103                       0                          0   \n",
       "3      19600104                       0                          0   \n",
       "4      19600105                       0                          0   \n",
       "...         ...                     ...                        ...   \n",
       "22945  20221027                       0                          0   \n",
       "22946  20221028                       0                          0   \n",
       "22947  20221029                       0                          0   \n",
       "22948  20221030                       0                          0   \n",
       "22949  20221031                       0                          0   \n",
       "\n",
       "       BUDAPEST_pleasant_weather  DEBILT_pleasant_weather  \\\n",
       "0                              0                        0   \n",
       "1                              0                        0   \n",
       "2                              0                        0   \n",
       "3                              0                        0   \n",
       "4                              0                        0   \n",
       "...                          ...                      ...   \n",
       "22945                          0                        0   \n",
       "22946                          0                        0   \n",
       "22947                          0                        0   \n",
       "22948                          0                        0   \n",
       "22949                          0                        0   \n",
       "\n",
       "       DUSSELDORF_pleasant_weather  HEATHROW_pleasant_weather  \\\n",
       "0                                0                          0   \n",
       "1                                0                          0   \n",
       "2                                0                          0   \n",
       "3                                0                          0   \n",
       "4                                0                          0   \n",
       "...                            ...                        ...   \n",
       "22945                            0                          0   \n",
       "22946                            0                          0   \n",
       "22947                            0                          0   \n",
       "22948                            0                          0   \n",
       "22949                            0                          0   \n",
       "\n",
       "       KASSEL_pleasant_weather  LJUBLJANA_pleasant_weather  \\\n",
       "0                            0                           0   \n",
       "1                            0                           0   \n",
       "2                            0                           0   \n",
       "3                            0                           0   \n",
       "4                            0                           0   \n",
       "...                        ...                         ...   \n",
       "22945                        0                           0   \n",
       "22946                        0                           0   \n",
       "22947                        0                           0   \n",
       "22948                        0                           0   \n",
       "22949                        0                           0   \n",
       "\n",
       "       MAASTRICHT_pleasant_weather  MADRID_pleasant_weather  \\\n",
       "0                                0                        0   \n",
       "1                                0                        0   \n",
       "2                                0                        0   \n",
       "3                                0                        0   \n",
       "4                                0                        0   \n",
       "...                            ...                      ...   \n",
       "22945                            0                        0   \n",
       "22946                            0                        0   \n",
       "22947                            0                        0   \n",
       "22948                            0                        0   \n",
       "22949                            0                        0   \n",
       "\n",
       "       MUNCHENB_pleasant_weather  OSLO_pleasant_weather  \\\n",
       "0                              0                      0   \n",
       "1                              0                      0   \n",
       "2                              0                      0   \n",
       "3                              0                      0   \n",
       "4                              0                      0   \n",
       "...                          ...                    ...   \n",
       "22945                          0                      0   \n",
       "22946                          0                      0   \n",
       "22947                          0                      0   \n",
       "22948                          0                      0   \n",
       "22949                          0                      0   \n",
       "\n",
       "       SONNBLICK_pleasant_weather  STOCKHOLM_pleasant_weather  \\\n",
       "0                               0                           0   \n",
       "1                               0                           0   \n",
       "2                               0                           0   \n",
       "3                               0                           0   \n",
       "4                               0                           0   \n",
       "...                           ...                         ...   \n",
       "22945                           0                           0   \n",
       "22946                           0                           0   \n",
       "22947                           0                           0   \n",
       "22948                           0                           0   \n",
       "22949                           0                           0   \n",
       "\n",
       "       VALENTIA_pleasant_weather  \n",
       "0                              0  \n",
       "1                              0  \n",
       "2                              0  \n",
       "3                              0  \n",
       "4                              0  \n",
       "...                          ...  \n",
       "22945                          0  \n",
       "22946                          0  \n",
       "22947                          0  \n",
       "22948                          0  \n",
       "22949                          0  \n",
       "\n",
       "[22950 rows x 16 columns]"
      ]
     },
     "execution_count": 38,
     "metadata": {},
     "output_type": "execute_result"
    }
   ],
   "source": [
    "df_answers"
   ]
  },
  {
   "cell_type": "markdown",
   "id": "0f5fac3b-9c98-4b3e-9f6f-be6de2c9a8a1",
   "metadata": {},
   "source": [
    "# Cleaning and wrangling the dataframes"
   ]
  },
  {
   "cell_type": "code",
   "execution_count": 39,
   "id": "2c062eee-8f9f-4df7-bfc1-fe803a2048e3",
   "metadata": {},
   "outputs": [
    {
     "data": {
      "text/html": [
       "<div>\n",
       "<style scoped>\n",
       "    .dataframe tbody tr th:only-of-type {\n",
       "        vertical-align: middle;\n",
       "    }\n",
       "\n",
       "    .dataframe tbody tr th {\n",
       "        vertical-align: top;\n",
       "    }\n",
       "\n",
       "    .dataframe thead th {\n",
       "        text-align: right;\n",
       "    }\n",
       "</style>\n",
       "<table border=\"1\" class=\"dataframe\">\n",
       "  <thead>\n",
       "    <tr style=\"text-align: right;\">\n",
       "      <th></th>\n",
       "      <th>BASEL_cloud_cover</th>\n",
       "      <th>BASEL_wind_speed</th>\n",
       "      <th>BASEL_humidity</th>\n",
       "      <th>BASEL_pressure</th>\n",
       "      <th>BASEL_global_radiation</th>\n",
       "      <th>BASEL_precipitation</th>\n",
       "      <th>BASEL_snow_depth</th>\n",
       "      <th>BASEL_sunshine</th>\n",
       "      <th>BASEL_temp_mean</th>\n",
       "      <th>BASEL_temp_min</th>\n",
       "      <th>...</th>\n",
       "      <th>VALENTIA_cloud_cover</th>\n",
       "      <th>VALENTIA_humidity</th>\n",
       "      <th>VALENTIA_pressure</th>\n",
       "      <th>VALENTIA_global_radiation</th>\n",
       "      <th>VALENTIA_precipitation</th>\n",
       "      <th>VALENTIA_snow_depth</th>\n",
       "      <th>VALENTIA_sunshine</th>\n",
       "      <th>VALENTIA_temp_mean</th>\n",
       "      <th>VALENTIA_temp_min</th>\n",
       "      <th>VALENTIA_temp_max</th>\n",
       "    </tr>\n",
       "  </thead>\n",
       "  <tbody>\n",
       "    <tr>\n",
       "      <th>0</th>\n",
       "      <td>7</td>\n",
       "      <td>2.1</td>\n",
       "      <td>0.85</td>\n",
       "      <td>1.018</td>\n",
       "      <td>0.32</td>\n",
       "      <td>0.09</td>\n",
       "      <td>0</td>\n",
       "      <td>0.7</td>\n",
       "      <td>6.5</td>\n",
       "      <td>0.8</td>\n",
       "      <td>...</td>\n",
       "      <td>5</td>\n",
       "      <td>0.88</td>\n",
       "      <td>1.0003</td>\n",
       "      <td>0.45</td>\n",
       "      <td>0.34</td>\n",
       "      <td>0</td>\n",
       "      <td>4.7</td>\n",
       "      <td>8.5</td>\n",
       "      <td>6.0</td>\n",
       "      <td>10.9</td>\n",
       "    </tr>\n",
       "    <tr>\n",
       "      <th>1</th>\n",
       "      <td>6</td>\n",
       "      <td>2.1</td>\n",
       "      <td>0.84</td>\n",
       "      <td>1.018</td>\n",
       "      <td>0.36</td>\n",
       "      <td>1.05</td>\n",
       "      <td>0</td>\n",
       "      <td>1.1</td>\n",
       "      <td>6.1</td>\n",
       "      <td>3.3</td>\n",
       "      <td>...</td>\n",
       "      <td>7</td>\n",
       "      <td>0.91</td>\n",
       "      <td>1.0007</td>\n",
       "      <td>0.25</td>\n",
       "      <td>0.84</td>\n",
       "      <td>0</td>\n",
       "      <td>0.7</td>\n",
       "      <td>8.9</td>\n",
       "      <td>5.6</td>\n",
       "      <td>12.1</td>\n",
       "    </tr>\n",
       "    <tr>\n",
       "      <th>2</th>\n",
       "      <td>8</td>\n",
       "      <td>2.1</td>\n",
       "      <td>0.90</td>\n",
       "      <td>1.018</td>\n",
       "      <td>0.18</td>\n",
       "      <td>0.30</td>\n",
       "      <td>0</td>\n",
       "      <td>0.0</td>\n",
       "      <td>8.5</td>\n",
       "      <td>5.1</td>\n",
       "      <td>...</td>\n",
       "      <td>7</td>\n",
       "      <td>0.91</td>\n",
       "      <td>1.0096</td>\n",
       "      <td>0.17</td>\n",
       "      <td>0.08</td>\n",
       "      <td>0</td>\n",
       "      <td>0.1</td>\n",
       "      <td>10.5</td>\n",
       "      <td>8.1</td>\n",
       "      <td>12.9</td>\n",
       "    </tr>\n",
       "    <tr>\n",
       "      <th>3</th>\n",
       "      <td>3</td>\n",
       "      <td>2.1</td>\n",
       "      <td>0.92</td>\n",
       "      <td>1.018</td>\n",
       "      <td>0.58</td>\n",
       "      <td>0.00</td>\n",
       "      <td>0</td>\n",
       "      <td>4.1</td>\n",
       "      <td>6.3</td>\n",
       "      <td>3.8</td>\n",
       "      <td>...</td>\n",
       "      <td>7</td>\n",
       "      <td>0.86</td>\n",
       "      <td>1.0184</td>\n",
       "      <td>0.13</td>\n",
       "      <td>0.98</td>\n",
       "      <td>0</td>\n",
       "      <td>0.0</td>\n",
       "      <td>7.4</td>\n",
       "      <td>7.3</td>\n",
       "      <td>10.6</td>\n",
       "    </tr>\n",
       "    <tr>\n",
       "      <th>4</th>\n",
       "      <td>6</td>\n",
       "      <td>2.1</td>\n",
       "      <td>0.95</td>\n",
       "      <td>1.018</td>\n",
       "      <td>0.65</td>\n",
       "      <td>0.14</td>\n",
       "      <td>0</td>\n",
       "      <td>5.4</td>\n",
       "      <td>3.0</td>\n",
       "      <td>-0.7</td>\n",
       "      <td>...</td>\n",
       "      <td>3</td>\n",
       "      <td>0.80</td>\n",
       "      <td>1.0328</td>\n",
       "      <td>0.46</td>\n",
       "      <td>0.00</td>\n",
       "      <td>0</td>\n",
       "      <td>5.7</td>\n",
       "      <td>5.7</td>\n",
       "      <td>3.0</td>\n",
       "      <td>8.4</td>\n",
       "    </tr>\n",
       "  </tbody>\n",
       "</table>\n",
       "<p>5 rows × 168 columns</p>\n",
       "</div>"
      ],
      "text/plain": [
       "   BASEL_cloud_cover  BASEL_wind_speed  BASEL_humidity  BASEL_pressure  \\\n",
       "0                  7               2.1            0.85           1.018   \n",
       "1                  6               2.1            0.84           1.018   \n",
       "2                  8               2.1            0.90           1.018   \n",
       "3                  3               2.1            0.92           1.018   \n",
       "4                  6               2.1            0.95           1.018   \n",
       "\n",
       "   BASEL_global_radiation  BASEL_precipitation  BASEL_snow_depth  \\\n",
       "0                    0.32                 0.09                 0   \n",
       "1                    0.36                 1.05                 0   \n",
       "2                    0.18                 0.30                 0   \n",
       "3                    0.58                 0.00                 0   \n",
       "4                    0.65                 0.14                 0   \n",
       "\n",
       "   BASEL_sunshine  BASEL_temp_mean  BASEL_temp_min  ...  VALENTIA_cloud_cover  \\\n",
       "0             0.7              6.5             0.8  ...                     5   \n",
       "1             1.1              6.1             3.3  ...                     7   \n",
       "2             0.0              8.5             5.1  ...                     7   \n",
       "3             4.1              6.3             3.8  ...                     7   \n",
       "4             5.4              3.0            -0.7  ...                     3   \n",
       "\n",
       "   VALENTIA_humidity  VALENTIA_pressure  VALENTIA_global_radiation  \\\n",
       "0               0.88             1.0003                       0.45   \n",
       "1               0.91             1.0007                       0.25   \n",
       "2               0.91             1.0096                       0.17   \n",
       "3               0.86             1.0184                       0.13   \n",
       "4               0.80             1.0328                       0.46   \n",
       "\n",
       "   VALENTIA_precipitation  VALENTIA_snow_depth  VALENTIA_sunshine  \\\n",
       "0                    0.34                    0                4.7   \n",
       "1                    0.84                    0                0.7   \n",
       "2                    0.08                    0                0.1   \n",
       "3                    0.98                    0                0.0   \n",
       "4                    0.00                    0                5.7   \n",
       "\n",
       "   VALENTIA_temp_mean  VALENTIA_temp_min  VALENTIA_temp_max  \n",
       "0                 8.5                6.0               10.9  \n",
       "1                 8.9                5.6               12.1  \n",
       "2                10.5                8.1               12.9  \n",
       "3                 7.4                7.3               10.6  \n",
       "4                 5.7                3.0                8.4  \n",
       "\n",
       "[5 rows x 168 columns]"
      ]
     },
     "execution_count": 39,
     "metadata": {},
     "output_type": "execute_result"
    }
   ],
   "source": [
    "# Drop date and month columns from \n",
    "df_weather3 = df_weather2.drop(columns=['DATE', 'MONTH'], axis=1)\n",
    "df_weather3.head()"
   ]
  },
  {
   "cell_type": "code",
   "execution_count": 40,
   "id": "33fd8ff6-7195-4683-a218-362a24e6561d",
   "metadata": {},
   "outputs": [
    {
     "data": {
      "text/html": [
       "<div>\n",
       "<style scoped>\n",
       "    .dataframe tbody tr th:only-of-type {\n",
       "        vertical-align: middle;\n",
       "    }\n",
       "\n",
       "    .dataframe tbody tr th {\n",
       "        vertical-align: top;\n",
       "    }\n",
       "\n",
       "    .dataframe thead th {\n",
       "        text-align: right;\n",
       "    }\n",
       "</style>\n",
       "<table border=\"1\" class=\"dataframe\">\n",
       "  <thead>\n",
       "    <tr style=\"text-align: right;\">\n",
       "      <th></th>\n",
       "      <th>BASEL_pleasant_weather</th>\n",
       "      <th>BELGRADE_pleasant_weather</th>\n",
       "      <th>BUDAPEST_pleasant_weather</th>\n",
       "      <th>DEBILT_pleasant_weather</th>\n",
       "      <th>DUSSELDORF_pleasant_weather</th>\n",
       "      <th>HEATHROW_pleasant_weather</th>\n",
       "      <th>KASSEL_pleasant_weather</th>\n",
       "      <th>LJUBLJANA_pleasant_weather</th>\n",
       "      <th>MAASTRICHT_pleasant_weather</th>\n",
       "      <th>MADRID_pleasant_weather</th>\n",
       "      <th>MUNCHENB_pleasant_weather</th>\n",
       "      <th>OSLO_pleasant_weather</th>\n",
       "      <th>SONNBLICK_pleasant_weather</th>\n",
       "      <th>STOCKHOLM_pleasant_weather</th>\n",
       "      <th>VALENTIA_pleasant_weather</th>\n",
       "    </tr>\n",
       "  </thead>\n",
       "  <tbody>\n",
       "    <tr>\n",
       "      <th>0</th>\n",
       "      <td>0</td>\n",
       "      <td>0</td>\n",
       "      <td>0</td>\n",
       "      <td>0</td>\n",
       "      <td>0</td>\n",
       "      <td>0</td>\n",
       "      <td>0</td>\n",
       "      <td>0</td>\n",
       "      <td>0</td>\n",
       "      <td>0</td>\n",
       "      <td>0</td>\n",
       "      <td>0</td>\n",
       "      <td>0</td>\n",
       "      <td>0</td>\n",
       "      <td>0</td>\n",
       "    </tr>\n",
       "    <tr>\n",
       "      <th>1</th>\n",
       "      <td>0</td>\n",
       "      <td>0</td>\n",
       "      <td>0</td>\n",
       "      <td>0</td>\n",
       "      <td>0</td>\n",
       "      <td>0</td>\n",
       "      <td>0</td>\n",
       "      <td>0</td>\n",
       "      <td>0</td>\n",
       "      <td>0</td>\n",
       "      <td>0</td>\n",
       "      <td>0</td>\n",
       "      <td>0</td>\n",
       "      <td>0</td>\n",
       "      <td>0</td>\n",
       "    </tr>\n",
       "    <tr>\n",
       "      <th>2</th>\n",
       "      <td>0</td>\n",
       "      <td>0</td>\n",
       "      <td>0</td>\n",
       "      <td>0</td>\n",
       "      <td>0</td>\n",
       "      <td>0</td>\n",
       "      <td>0</td>\n",
       "      <td>0</td>\n",
       "      <td>0</td>\n",
       "      <td>0</td>\n",
       "      <td>0</td>\n",
       "      <td>0</td>\n",
       "      <td>0</td>\n",
       "      <td>0</td>\n",
       "      <td>0</td>\n",
       "    </tr>\n",
       "    <tr>\n",
       "      <th>3</th>\n",
       "      <td>0</td>\n",
       "      <td>0</td>\n",
       "      <td>0</td>\n",
       "      <td>0</td>\n",
       "      <td>0</td>\n",
       "      <td>0</td>\n",
       "      <td>0</td>\n",
       "      <td>0</td>\n",
       "      <td>0</td>\n",
       "      <td>0</td>\n",
       "      <td>0</td>\n",
       "      <td>0</td>\n",
       "      <td>0</td>\n",
       "      <td>0</td>\n",
       "      <td>0</td>\n",
       "    </tr>\n",
       "    <tr>\n",
       "      <th>4</th>\n",
       "      <td>0</td>\n",
       "      <td>0</td>\n",
       "      <td>0</td>\n",
       "      <td>0</td>\n",
       "      <td>0</td>\n",
       "      <td>0</td>\n",
       "      <td>0</td>\n",
       "      <td>0</td>\n",
       "      <td>0</td>\n",
       "      <td>0</td>\n",
       "      <td>0</td>\n",
       "      <td>0</td>\n",
       "      <td>0</td>\n",
       "      <td>0</td>\n",
       "      <td>0</td>\n",
       "    </tr>\n",
       "  </tbody>\n",
       "</table>\n",
       "</div>"
      ],
      "text/plain": [
       "   BASEL_pleasant_weather  BELGRADE_pleasant_weather  \\\n",
       "0                       0                          0   \n",
       "1                       0                          0   \n",
       "2                       0                          0   \n",
       "3                       0                          0   \n",
       "4                       0                          0   \n",
       "\n",
       "   BUDAPEST_pleasant_weather  DEBILT_pleasant_weather  \\\n",
       "0                          0                        0   \n",
       "1                          0                        0   \n",
       "2                          0                        0   \n",
       "3                          0                        0   \n",
       "4                          0                        0   \n",
       "\n",
       "   DUSSELDORF_pleasant_weather  HEATHROW_pleasant_weather  \\\n",
       "0                            0                          0   \n",
       "1                            0                          0   \n",
       "2                            0                          0   \n",
       "3                            0                          0   \n",
       "4                            0                          0   \n",
       "\n",
       "   KASSEL_pleasant_weather  LJUBLJANA_pleasant_weather  \\\n",
       "0                        0                           0   \n",
       "1                        0                           0   \n",
       "2                        0                           0   \n",
       "3                        0                           0   \n",
       "4                        0                           0   \n",
       "\n",
       "   MAASTRICHT_pleasant_weather  MADRID_pleasant_weather  \\\n",
       "0                            0                        0   \n",
       "1                            0                        0   \n",
       "2                            0                        0   \n",
       "3                            0                        0   \n",
       "4                            0                        0   \n",
       "\n",
       "   MUNCHENB_pleasant_weather  OSLO_pleasant_weather  \\\n",
       "0                          0                      0   \n",
       "1                          0                      0   \n",
       "2                          0                      0   \n",
       "3                          0                      0   \n",
       "4                          0                      0   \n",
       "\n",
       "   SONNBLICK_pleasant_weather  STOCKHOLM_pleasant_weather  \\\n",
       "0                           0                           0   \n",
       "1                           0                           0   \n",
       "2                           0                           0   \n",
       "3                           0                           0   \n",
       "4                           0                           0   \n",
       "\n",
       "   VALENTIA_pleasant_weather  \n",
       "0                          0  \n",
       "1                          0  \n",
       "2                          0  \n",
       "3                          0  \n",
       "4                          0  "
      ]
     },
     "execution_count": 40,
     "metadata": {},
     "output_type": "execute_result"
    }
   ],
   "source": [
    "# Drop date and month columns from \n",
    "df_answers = df_answers.drop(columns=['DATE'], axis=1)\n",
    "df_answers.head()"
   ]
  },
  {
   "cell_type": "code",
   "execution_count": 41,
   "id": "7b5de633-f3bb-4b4b-a720-fe7eae145650",
   "metadata": {},
   "outputs": [],
   "source": [
    "# Drop all Gdansk, Roma,Tours columns inexistant in answers dataframe\n",
    "cols_to_drop = [col for col in df_weather3.columns if col.startswith(('GDANSK', 'ROMA', 'TOURS'))]\n",
    "df_weather4 = df_weather3.drop(columns=cols_to_drop)"
   ]
  },
  {
   "cell_type": "code",
   "execution_count": 42,
   "id": "bc7fad12-ea5f-44d4-a2c8-739942ca0273",
   "metadata": {},
   "outputs": [
    {
     "data": {
      "text/plain": [
       "Index(['BASEL_cloud_cover', 'BASEL_wind_speed', 'BASEL_humidity',\n",
       "       'BASEL_pressure', 'BASEL_global_radiation', 'BASEL_precipitation',\n",
       "       'BASEL_snow_depth', 'BASEL_sunshine', 'BASEL_temp_mean',\n",
       "       'BASEL_temp_min',\n",
       "       ...\n",
       "       'VALENTIA_cloud_cover', 'VALENTIA_humidity', 'VALENTIA_pressure',\n",
       "       'VALENTIA_global_radiation', 'VALENTIA_precipitation',\n",
       "       'VALENTIA_snow_depth', 'VALENTIA_sunshine', 'VALENTIA_temp_mean',\n",
       "       'VALENTIA_temp_min', 'VALENTIA_temp_max'],\n",
       "      dtype='object', length=147)"
      ]
     },
     "execution_count": 42,
     "metadata": {},
     "output_type": "execute_result"
    }
   ],
   "source": [
    "df_weather4.columns"
   ]
  },
  {
   "cell_type": "code",
   "execution_count": 43,
   "id": "537a2061-3053-4610-b595-4cb04173ad0b",
   "metadata": {},
   "outputs": [
    {
     "data": {
      "text/plain": [
       "(22950, 147)"
      ]
     },
     "execution_count": 43,
     "metadata": {},
     "output_type": "execute_result"
    }
   ],
   "source": [
    "df_weather4.shape"
   ]
  },
  {
   "cell_type": "code",
   "execution_count": 44,
   "id": "163e5381-98b9-4e62-9ec4-2e076771a09e",
   "metadata": {},
   "outputs": [
    {
     "data": {
      "text/plain": [
       "(22950, 15)"
      ]
     },
     "execution_count": 44,
     "metadata": {},
     "output_type": "execute_result"
    }
   ],
   "source": [
    "df_answers.shape"
   ]
  },
  {
   "cell_type": "code",
   "execution_count": 59,
   "id": "7115e493-bb73-45ff-a5d1-aa44a33cd771",
   "metadata": {},
   "outputs": [
    {
     "name": "stdout",
     "output_type": "stream",
     "text": [
      "Location: VALENTIA\n",
      "  - cloud_cover: 1\n",
      "  - humidity: 1\n",
      "  - pressure: 1\n",
      "  - global_radiation: 1\n",
      "  - precipitation: 1\n",
      "  - snow_depth: 1\n",
      "  - sunshine: 1\n",
      "  - temp_mean: 1\n",
      "  - temp_min: 1\n",
      "  - temp_max: 1\n",
      "\n",
      "Location: BELGRADE\n",
      "  - cloud_cover: 1\n",
      "  - humidity: 1\n",
      "  - pressure: 1\n",
      "  - global_radiation: 1\n",
      "  - precipitation: 1\n",
      "  - sunshine: 1\n",
      "  - temp_mean: 1\n",
      "  - temp_min: 1\n",
      "  - temp_max: 1\n",
      "\n",
      "Location: BUDAPEST\n",
      "  - cloud_cover: 1\n",
      "  - humidity: 1\n",
      "  - pressure: 1\n",
      "  - global_radiation: 1\n",
      "  - precipitation: 1\n",
      "  - sunshine: 1\n",
      "  - temp_mean: 1\n",
      "  - temp_min: 1\n",
      "  - temp_max: 1\n",
      "\n",
      "Location: DUSSELDORF\n",
      "  - cloud_cover: 1\n",
      "  - wind_speed: 1\n",
      "  - humidity: 1\n",
      "  - pressure: 1\n",
      "  - global_radiation: 1\n",
      "  - precipitation: 1\n",
      "  - snow_depth: 1\n",
      "  - sunshine: 1\n",
      "  - temp_mean: 1\n",
      "  - temp_min: 1\n",
      "  - temp_max: 1\n",
      "\n",
      "Location: OSLO\n",
      "  - cloud_cover: 1\n",
      "  - wind_speed: 1\n",
      "  - humidity: 1\n",
      "  - pressure: 1\n",
      "  - global_radiation: 1\n",
      "  - precipitation: 1\n",
      "  - snow_depth: 1\n",
      "  - sunshine: 1\n",
      "  - temp_mean: 1\n",
      "  - temp_min: 1\n",
      "  - temp_max: 1\n",
      "\n",
      "Location: MAASTRICHT\n",
      "  - cloud_cover: 1\n",
      "  - wind_speed: 1\n",
      "  - humidity: 1\n",
      "  - pressure: 1\n",
      "  - global_radiation: 1\n",
      "  - precipitation: 1\n",
      "  - sunshine: 1\n",
      "  - temp_mean: 1\n",
      "  - temp_min: 1\n",
      "  - temp_max: 1\n",
      "\n",
      "Location: MUNCHENB\n",
      "  - cloud_cover: 1\n",
      "  - humidity: 1\n",
      "  - global_radiation: 1\n",
      "  - precipitation: 1\n",
      "  - snow_depth: 1\n",
      "  - sunshine: 1\n",
      "  - temp_mean: 1\n",
      "  - temp_min: 1\n",
      "  - temp_max: 1\n",
      "\n",
      "Location: KASSEL\n",
      "  - wind_speed: 1\n",
      "  - humidity: 1\n",
      "  - pressure: 1\n",
      "  - global_radiation: 1\n",
      "  - precipitation: 1\n",
      "  - sunshine: 1\n",
      "  - temp_mean: 1\n",
      "  - temp_min: 1\n",
      "  - temp_max: 1\n",
      "\n",
      "Location: LJUBLJANA\n",
      "  - cloud_cover: 1\n",
      "  - wind_speed: 1\n",
      "  - humidity: 1\n",
      "  - pressure: 1\n",
      "  - global_radiation: 1\n",
      "  - precipitation: 1\n",
      "  - sunshine: 1\n",
      "  - temp_mean: 1\n",
      "  - temp_min: 1\n",
      "  - temp_max: 1\n",
      "\n",
      "Location: SONNBLICK\n",
      "  - cloud_cover: 1\n",
      "  - wind_speed: 1\n",
      "  - humidity: 1\n",
      "  - pressure: 1\n",
      "  - global_radiation: 1\n",
      "  - precipitation: 1\n",
      "  - sunshine: 1\n",
      "  - temp_mean: 1\n",
      "  - temp_min: 1\n",
      "  - temp_max: 1\n",
      "\n",
      "Location: DEBILT\n",
      "  - cloud_cover: 1\n",
      "  - wind_speed: 1\n",
      "  - humidity: 1\n",
      "  - pressure: 1\n",
      "  - global_radiation: 1\n",
      "  - precipitation: 1\n",
      "  - sunshine: 1\n",
      "  - temp_mean: 1\n",
      "  - temp_min: 1\n",
      "  - temp_max: 1\n",
      "\n",
      "Location: MADRID\n",
      "  - cloud_cover: 1\n",
      "  - wind_speed: 1\n",
      "  - humidity: 1\n",
      "  - pressure: 1\n",
      "  - global_radiation: 1\n",
      "  - precipitation: 1\n",
      "  - sunshine: 1\n",
      "  - temp_mean: 1\n",
      "  - temp_min: 1\n",
      "  - temp_max: 1\n",
      "\n",
      "Location: STOCKHOLM\n",
      "  - cloud_cover: 1\n",
      "  - pressure: 1\n",
      "  - global_radiation: 1\n",
      "  - precipitation: 1\n",
      "  - sunshine: 1\n",
      "  - temp_mean: 1\n",
      "  - temp_min: 1\n",
      "  - temp_max: 1\n",
      "\n",
      "Location: HEATHROW\n",
      "  - cloud_cover: 1\n",
      "  - humidity: 1\n",
      "  - pressure: 1\n",
      "  - global_radiation: 1\n",
      "  - precipitation: 1\n",
      "  - snow_depth: 1\n",
      "  - sunshine: 1\n",
      "  - temp_mean: 1\n",
      "  - temp_min: 1\n",
      "  - temp_max: 1\n",
      "\n",
      "Location: BASEL\n",
      "  - cloud_cover: 1\n",
      "  - wind_speed: 1\n",
      "  - humidity: 1\n",
      "  - pressure: 1\n",
      "  - global_radiation: 1\n",
      "  - precipitation: 1\n",
      "  - snow_depth: 1\n",
      "  - sunshine: 1\n",
      "  - temp_mean: 1\n",
      "  - temp_min: 1\n",
      "  - temp_max: 1\n",
      "\n"
     ]
    }
   ],
   "source": [
    "#  measurement types for each location\n",
    "\n",
    "#  location names \n",
    "locations = set([col.split('_')[0] for col in df_weather4.columns])\n",
    "\n",
    "#  measurement counts for each location\n",
    "measurement_counts = {location: {} for location in locations}\n",
    "\n",
    "# Count occurrences of each measurement type for each location\n",
    "for col in df_weather4.columns:\n",
    "    parts = col.split('_') \n",
    "    location = parts[0] \n",
    "    measurement = '_'.join(parts[1:])  # Join remaining parts if there are more than two\n",
    "\n",
    "    if measurement not in measurement_counts[location]:\n",
    "        measurement_counts[location][measurement] = 1\n",
    "    else:\n",
    "        measurement_counts[location][measurement] += 1\n",
    "\n",
    "# Print the measurement counts for each location\n",
    "for location, measurements in measurement_counts.items():\n",
    "    print(f\"Location: {location}\")\n",
    "    for measurement, count in measurements.items():\n",
    "        print(f\"  - {measurement}: {count}\")\n",
    "    print()"
   ]
  },
  {
   "cell_type": "code",
   "execution_count": 61,
   "id": "f58342e8-9d65-46c3-af6c-4de528b1d543",
   "metadata": {},
   "outputs": [],
   "source": [
    "# Drop columns for the missing measurements \n",
    "\n",
    "# Create a list of columns to drop\n",
    "cols_to_drop_ = [col for col in df_weather4.columns if col.endswith(('wind_speed', 'snow_depth'))]\n",
    "\n",
    "# Dropping\n",
    "df_weather5 = df_weather4.drop(columns=cols_to_drop_)"
   ]
  },
  {
   "cell_type": "code",
   "execution_count": 65,
   "id": "6886e57b-fab1-420b-ada8-d7ddbf3cb80d",
   "metadata": {},
   "outputs": [
    {
     "data": {
      "text/plain": [
       "(22950, 132)"
      ]
     },
     "execution_count": 65,
     "metadata": {},
     "output_type": "execute_result"
    }
   ],
   "source": [
    "df_weather5.shape"
   ]
  },
  {
   "cell_type": "code",
   "execution_count": 67,
   "id": "939a00ec-cc04-4182-a8d5-151913e278f7",
   "metadata": {},
   "outputs": [
    {
     "data": {
      "text/plain": [
       "(22950, 15)"
      ]
     },
     "execution_count": 67,
     "metadata": {},
     "output_type": "execute_result"
    }
   ],
   "source": [
    "df_answers.shape"
   ]
  },
  {
   "cell_type": "code",
   "execution_count": 69,
   "id": "ddd8c051-fac7-491c-b19f-bba3fc33f7e6",
   "metadata": {
    "scrolled": true
   },
   "outputs": [
    {
     "data": {
      "text/plain": [
       "Counter({'BASEL': 9,\n",
       "         'BELGRADE': 9,\n",
       "         'BUDAPEST': 9,\n",
       "         'DEBILT': 9,\n",
       "         'DUSSELDORF': 9,\n",
       "         'HEATHROW': 9,\n",
       "         'LJUBLJANA': 9,\n",
       "         'MAASTRICHT': 9,\n",
       "         'MADRID': 9,\n",
       "         'OSLO': 9,\n",
       "         'SONNBLICK': 9,\n",
       "         'VALENTIA': 9,\n",
       "         'KASSEL': 8,\n",
       "         'MUNCHENB': 8,\n",
       "         'STOCKHOLM': 8})"
      ]
     },
     "execution_count": 69,
     "metadata": {},
     "output_type": "execute_result"
    }
   ],
   "source": [
    "from collections import Counter\n",
    "\n",
    "locations = [col.split('_')[0] for col in df_weather5.columns]\n",
    "Counter(locations)"
   ]
  },
  {
   "cell_type": "code",
   "execution_count": 71,
   "id": "aedf7371-b09e-48d2-ba7a-de1f5eab5887",
   "metadata": {},
   "outputs": [
    {
     "data": {
      "text/plain": [
       "(22950, 132)"
      ]
     },
     "execution_count": 71,
     "metadata": {},
     "output_type": "execute_result"
    }
   ],
   "source": [
    "df_weather5.shape"
   ]
  },
  {
   "cell_type": "code",
   "execution_count": 73,
   "id": "7ce634df-617d-4c90-9f92-ded7ea76eedb",
   "metadata": {},
   "outputs": [
    {
     "data": {
      "text/plain": [
       "Counter({'BASEL': 9,\n",
       "         'BELGRADE': 9,\n",
       "         'BUDAPEST': 9,\n",
       "         'DEBILT': 9,\n",
       "         'DUSSELDORF': 9,\n",
       "         'HEATHROW': 9,\n",
       "         'LJUBLJANA': 9,\n",
       "         'MAASTRICHT': 9,\n",
       "         'MADRID': 9,\n",
       "         'OSLO': 9,\n",
       "         'SONNBLICK': 9,\n",
       "         'VALENTIA': 9,\n",
       "         'KASSEL': 8,\n",
       "         'MUNCHENB': 8,\n",
       "         'STOCKHOLM': 8})"
      ]
     },
     "execution_count": 73,
     "metadata": {},
     "output_type": "execute_result"
    }
   ],
   "source": [
    "from collections import Counter\n",
    "\n",
    "locations = [col.split('_')[0] for col in df_weather5.columns]\n",
    "Counter(locations)"
   ]
  },
  {
   "cell_type": "code",
   "execution_count": 75,
   "id": "b31dee86-d502-4c09-8c78-c48877f10ccb",
   "metadata": {},
   "outputs": [],
   "source": [
    "# Fill missing Kassel data with Ljubljana\n",
    "for col in df_weather5.columns:\n",
    "    if col.startswith('LJUBLJANA_'):\n",
    "        feature = col.split('_', 1)[1]\n",
    "        target_col = f'KASSEL_{feature}'\n",
    "        if target_col not in df_weather5.columns:\n",
    "            df_weather5[target_col] = df_weather5[col]\n",
    "\n",
    "# Fill missing MunchenB data with Sonnblick\n",
    "for col in df_weather5.columns:\n",
    "    if col.startswith('SONNBLICK_'):\n",
    "        feature = col.split('_', 1)[1]\n",
    "        target_col = f'MUNCHENB_{feature}'\n",
    "        if target_col not in df_weather5.columns:\n",
    "            df_weather5[target_col] = df_weather5[col]\n",
    "\n",
    "# Fill missing Stockholm data with Oslo\n",
    "for col in df_weather5.columns:\n",
    "    if col.startswith('OSLO_'):\n",
    "        feature = col.split('_', 1)[1]\n",
    "        target_col = f'STOCKHOLM_{feature}'\n",
    "        if target_col not in df_weather5.columns:\n",
    "            df_weather5[target_col] = df_weather5[col]"
   ]
  },
  {
   "cell_type": "code",
   "execution_count": 77,
   "id": "4f584500-d77a-42c4-b597-9ab9694da013",
   "metadata": {},
   "outputs": [
    {
     "data": {
      "text/plain": [
       "(22950, 135)"
      ]
     },
     "execution_count": 77,
     "metadata": {},
     "output_type": "execute_result"
    }
   ],
   "source": [
    "df_weather5.shape"
   ]
  },
  {
   "cell_type": "code",
   "execution_count": 79,
   "id": "46811e30-7946-42be-b49e-137ed4fa71db",
   "metadata": {},
   "outputs": [],
   "source": [
    "# Export cleaned weather data\n",
    "df_weather5.to_csv(os.path.join(path, 'data', 'prepared Data','machine2_weather_clean.csv'), index=False)"
   ]
  },
  {
   "cell_type": "markdown",
   "id": "9700de3b-54a7-436a-81b7-dff58b7df7db",
   "metadata": {},
   "source": [
    "# Deep learning"
   ]
  },
  {
   "cell_type": "code",
   "execution_count": 80,
   "id": "75b327f2-3dcc-45f1-895c-b00e79761227",
   "metadata": {},
   "outputs": [],
   "source": [
    "#reshape for deep learning\n",
    "X_= df_weather5\n",
    "y = df_answers"
   ]
  },
  {
   "cell_type": "code",
   "execution_count": 81,
   "id": "9467057c-0cf4-4ab8-a738-e02b4874750e",
   "metadata": {},
   "outputs": [],
   "source": [
    "# Convert daframes to arrays\n",
    "X_= np.array(X_)\n",
    "y = np.array(y)"
   ]
  },
  {
   "cell_type": "code",
   "execution_count": 82,
   "id": "ef6f7ad4-2976-4b0f-a2e0-f5ecb51c6ff4",
   "metadata": {},
   "outputs": [
    {
     "data": {
      "text/plain": [
       "array([[7.    , 0.85  , 1.018 , ..., 8.    , 1.0304, 0.98  ],\n",
       "       [6.    , 0.84  , 1.018 , ..., 6.    , 1.0292, 0.62  ],\n",
       "       [8.    , 0.9   , 1.018 , ..., 8.    , 1.032 , 0.69  ],\n",
       "       ...,\n",
       "       [4.    , 0.76  , 1.0227, ..., 3.    , 1.0263, 0.85  ],\n",
       "       [5.    , 0.8   , 1.0212, ..., 3.    , 1.0263, 0.94  ],\n",
       "       [5.    , 0.84  , 1.0193, ..., 3.    , 1.0263, 0.97  ]])"
      ]
     },
     "execution_count": 82,
     "metadata": {},
     "output_type": "execute_result"
    }
   ],
   "source": [
    "X_"
   ]
  },
  {
   "cell_type": "code",
   "execution_count": 83,
   "id": "29da4aa8-c548-4342-8130-70201e7138b5",
   "metadata": {},
   "outputs": [
    {
     "data": {
      "text/plain": [
       "array([[0, 0, 0, ..., 0, 0, 0],\n",
       "       [0, 0, 0, ..., 0, 0, 0],\n",
       "       [0, 0, 0, ..., 0, 0, 0],\n",
       "       ...,\n",
       "       [0, 0, 0, ..., 0, 0, 0],\n",
       "       [0, 0, 0, ..., 0, 0, 0],\n",
       "       [0, 0, 0, ..., 0, 0, 0]], dtype=int64)"
      ]
     },
     "execution_count": 83,
     "metadata": {},
     "output_type": "execute_result"
    }
   ],
   "source": [
    "y"
   ]
  },
  {
   "cell_type": "code",
   "execution_count": 84,
   "id": "eb16db0c-6f2f-49f9-9258-8cc4d6630c4a",
   "metadata": {},
   "outputs": [
    {
     "data": {
      "text/plain": [
       "(22950, 135)"
      ]
     },
     "execution_count": 84,
     "metadata": {},
     "output_type": "execute_result"
    }
   ],
   "source": [
    "X_.shape"
   ]
  },
  {
   "cell_type": "code",
   "execution_count": 85,
   "id": "54fa50a7-fae6-42c1-93a8-3bd64ca40da0",
   "metadata": {
    "scrolled": true
   },
   "outputs": [
    {
     "data": {
      "text/plain": [
       "(22950, 15)"
      ]
     },
     "execution_count": 85,
     "metadata": {},
     "output_type": "execute_result"
    }
   ],
   "source": [
    "y.shape"
   ]
  },
  {
   "cell_type": "code",
   "execution_count": 86,
   "id": "a8cf8811-26de-4577-9860-b917f1bd25bf",
   "metadata": {},
   "outputs": [],
   "source": [
    "# Reshaping X as a 3D object\n",
    "X_ = X_.reshape(-1,15,9)"
   ]
  },
  {
   "cell_type": "code",
   "execution_count": 95,
   "id": "31c5ed13-24f7-4f43-90fb-e76cbb1d9fa7",
   "metadata": {
    "scrolled": true
   },
   "outputs": [
    {
     "data": {
      "text/plain": [
       "(22950, 15, 9)"
      ]
     },
     "execution_count": 95,
     "metadata": {},
     "output_type": "execute_result"
    }
   ],
   "source": [
    "X_.shape"
   ]
  },
  {
   "cell_type": "code",
   "execution_count": 97,
   "id": "b1c7c8f5-59a6-4e78-b8da-4a1d8b6ef976",
   "metadata": {},
   "outputs": [
    {
     "data": {
      "text/plain": [
       "(22950, 15)"
      ]
     },
     "execution_count": 97,
     "metadata": {},
     "output_type": "execute_result"
    }
   ],
   "source": [
    "y.shape"
   ]
  },
  {
   "cell_type": "code",
   "execution_count": 99,
   "id": "c8952d0f-4469-4a9c-8ea9-94985f1e9e6a",
   "metadata": {},
   "outputs": [],
   "source": [
    "# Split data into train and test sets\n",
    "X_train, X_test, y_train, y_test = train_test_split(X_,y,random_state = 42)"
   ]
  },
  {
   "cell_type": "markdown",
   "id": "626ff72d-7d55-46a7-93c5-4dbe079d1c80",
   "metadata": {},
   "source": [
    "# CNN Model"
   ]
  },
  {
   "cell_type": "code",
   "execution_count": 192,
   "id": "29abc110-48ed-4cee-99e2-b07b6d46c3c3",
   "metadata": {},
   "outputs": [],
   "source": [
    "# the stations names\n",
    "stations = {\n",
    "0: 'BASEL',\n",
    "1: 'BELGRADE',\n",
    "2: 'BUDAPEST',\n",
    "3: 'DEBILT',\n",
    "4: 'DUSSELDORF',\n",
    "5: 'HEATHROW',\n",
    "6: 'KASSEL',\n",
    "7: 'LJUBLJANA',\n",
    "8: 'MAASTRICHT',\n",
    "9: 'MADRID',\n",
    "10: 'MUNCHENB',\n",
    "11: 'OSLO',\n",
    "12: 'SONNBLICK',\n",
    "13: 'STOCKHOLM',\n",
    "14: 'VALENTIA'\n",
    "}"
   ]
  },
  {
   "cell_type": "code",
   "execution_count": 183,
   "id": "2e146e28-83b2-4baa-b2b0-eb73f252b043",
   "metadata": {},
   "outputs": [
    {
     "name": "stderr",
     "output_type": "stream",
     "text": [
      "C:\\Users\\karim\\anaconda3\\Lib\\site-packages\\keras\\src\\layers\\convolutional\\base_conv.py:113: UserWarning: Do not pass an `input_shape`/`input_dim` argument to a layer. When using Sequential models, prefer using an `Input(shape)` object as the first layer in the model instead.\n",
      "  super().__init__(activity_regularizer=activity_regularizer, **kwargs)\n"
     ]
    }
   ],
   "source": [
    "#1st CNN test\n",
    "#parameters used(n_hidden=32,epochs = 10,batch_size = 16)\n",
    "n_hidden=32\n",
    "model = Sequential([\n",
    "    Conv1D(filters=64, kernel_size=3, activation='relu', input_shape=(15, 9)),\n",
    "    MaxPooling1D(pool_size=2),\n",
    "    \n",
    "    Conv1D(filters=128, kernel_size=3, activation='relu'),\n",
    "    MaxPooling1D(pool_size=2),\n",
    "    \n",
    "    Flatten(),\n",
    "    Dense(n_hidden, activation='relu'),\n",
    "    Dropout(0.5),\n",
    "    Dense(15, activation='softmax')  # 15 activity classes\n",
    "])"
   ]
  },
  {
   "cell_type": "code",
   "execution_count": null,
   "id": "f98bd201-c9ca-4e01-a827-b564f716d378",
   "metadata": {},
   "outputs": [],
   "source": []
  },
  {
   "cell_type": "code",
   "execution_count": 187,
   "id": "8c774218-b253-4090-bcb8-89adb525496e",
   "metadata": {},
   "outputs": [
    {
     "data": {
      "text/html": [
       "<pre style=\"white-space:pre;overflow-x:auto;line-height:normal;font-family:Menlo,'DejaVu Sans Mono',consolas,'Courier New',monospace\"><span style=\"font-weight: bold\">Model: \"sequential_7\"</span>\n",
       "</pre>\n"
      ],
      "text/plain": [
       "\u001b[1mModel: \"sequential_7\"\u001b[0m\n"
      ]
     },
     "metadata": {},
     "output_type": "display_data"
    },
    {
     "data": {
      "text/html": [
       "<pre style=\"white-space:pre;overflow-x:auto;line-height:normal;font-family:Menlo,'DejaVu Sans Mono',consolas,'Courier New',monospace\">┏━━━━━━━━━━━━━━━━━━━━━━━━━━━━━━━━━┳━━━━━━━━━━━━━━━━━━━━━━━━┳━━━━━━━━━━━━━━━┓\n",
       "┃<span style=\"font-weight: bold\"> Layer (type)                    </span>┃<span style=\"font-weight: bold\"> Output Shape           </span>┃<span style=\"font-weight: bold\">       Param # </span>┃\n",
       "┡━━━━━━━━━━━━━━━━━━━━━━━━━━━━━━━━━╇━━━━━━━━━━━━━━━━━━━━━━━━╇━━━━━━━━━━━━━━━┩\n",
       "│ conv1d_14 (<span style=\"color: #0087ff; text-decoration-color: #0087ff\">Conv1D</span>)              │ (<span style=\"color: #00d7ff; text-decoration-color: #00d7ff\">None</span>, <span style=\"color: #00af00; text-decoration-color: #00af00\">13</span>, <span style=\"color: #00af00; text-decoration-color: #00af00\">64</span>)         │         <span style=\"color: #00af00; text-decoration-color: #00af00\">1,792</span> │\n",
       "├─────────────────────────────────┼────────────────────────┼───────────────┤\n",
       "│ max_pooling1d_14 (<span style=\"color: #0087ff; text-decoration-color: #0087ff\">MaxPooling1D</span>) │ (<span style=\"color: #00d7ff; text-decoration-color: #00d7ff\">None</span>, <span style=\"color: #00af00; text-decoration-color: #00af00\">6</span>, <span style=\"color: #00af00; text-decoration-color: #00af00\">64</span>)          │             <span style=\"color: #00af00; text-decoration-color: #00af00\">0</span> │\n",
       "├─────────────────────────────────┼────────────────────────┼───────────────┤\n",
       "│ conv1d_15 (<span style=\"color: #0087ff; text-decoration-color: #0087ff\">Conv1D</span>)              │ (<span style=\"color: #00d7ff; text-decoration-color: #00d7ff\">None</span>, <span style=\"color: #00af00; text-decoration-color: #00af00\">4</span>, <span style=\"color: #00af00; text-decoration-color: #00af00\">128</span>)         │        <span style=\"color: #00af00; text-decoration-color: #00af00\">24,704</span> │\n",
       "├─────────────────────────────────┼────────────────────────┼───────────────┤\n",
       "│ max_pooling1d_15 (<span style=\"color: #0087ff; text-decoration-color: #0087ff\">MaxPooling1D</span>) │ (<span style=\"color: #00d7ff; text-decoration-color: #00d7ff\">None</span>, <span style=\"color: #00af00; text-decoration-color: #00af00\">2</span>, <span style=\"color: #00af00; text-decoration-color: #00af00\">128</span>)         │             <span style=\"color: #00af00; text-decoration-color: #00af00\">0</span> │\n",
       "├─────────────────────────────────┼────────────────────────┼───────────────┤\n",
       "│ flatten_7 (<span style=\"color: #0087ff; text-decoration-color: #0087ff\">Flatten</span>)             │ (<span style=\"color: #00d7ff; text-decoration-color: #00d7ff\">None</span>, <span style=\"color: #00af00; text-decoration-color: #00af00\">256</span>)            │             <span style=\"color: #00af00; text-decoration-color: #00af00\">0</span> │\n",
       "├─────────────────────────────────┼────────────────────────┼───────────────┤\n",
       "│ dense_14 (<span style=\"color: #0087ff; text-decoration-color: #0087ff\">Dense</span>)                │ (<span style=\"color: #00d7ff; text-decoration-color: #00d7ff\">None</span>, <span style=\"color: #00af00; text-decoration-color: #00af00\">32</span>)             │         <span style=\"color: #00af00; text-decoration-color: #00af00\">8,224</span> │\n",
       "├─────────────────────────────────┼────────────────────────┼───────────────┤\n",
       "│ dropout_7 (<span style=\"color: #0087ff; text-decoration-color: #0087ff\">Dropout</span>)             │ (<span style=\"color: #00d7ff; text-decoration-color: #00d7ff\">None</span>, <span style=\"color: #00af00; text-decoration-color: #00af00\">32</span>)             │             <span style=\"color: #00af00; text-decoration-color: #00af00\">0</span> │\n",
       "├─────────────────────────────────┼────────────────────────┼───────────────┤\n",
       "│ dense_15 (<span style=\"color: #0087ff; text-decoration-color: #0087ff\">Dense</span>)                │ (<span style=\"color: #00d7ff; text-decoration-color: #00d7ff\">None</span>, <span style=\"color: #00af00; text-decoration-color: #00af00\">15</span>)             │           <span style=\"color: #00af00; text-decoration-color: #00af00\">495</span> │\n",
       "└─────────────────────────────────┴────────────────────────┴───────────────┘\n",
       "</pre>\n"
      ],
      "text/plain": [
       "┏━━━━━━━━━━━━━━━━━━━━━━━━━━━━━━━━━┳━━━━━━━━━━━━━━━━━━━━━━━━┳━━━━━━━━━━━━━━━┓\n",
       "┃\u001b[1m \u001b[0m\u001b[1mLayer (type)                   \u001b[0m\u001b[1m \u001b[0m┃\u001b[1m \u001b[0m\u001b[1mOutput Shape          \u001b[0m\u001b[1m \u001b[0m┃\u001b[1m \u001b[0m\u001b[1m      Param #\u001b[0m\u001b[1m \u001b[0m┃\n",
       "┡━━━━━━━━━━━━━━━━━━━━━━━━━━━━━━━━━╇━━━━━━━━━━━━━━━━━━━━━━━━╇━━━━━━━━━━━━━━━┩\n",
       "│ conv1d_14 (\u001b[38;5;33mConv1D\u001b[0m)              │ (\u001b[38;5;45mNone\u001b[0m, \u001b[38;5;34m13\u001b[0m, \u001b[38;5;34m64\u001b[0m)         │         \u001b[38;5;34m1,792\u001b[0m │\n",
       "├─────────────────────────────────┼────────────────────────┼───────────────┤\n",
       "│ max_pooling1d_14 (\u001b[38;5;33mMaxPooling1D\u001b[0m) │ (\u001b[38;5;45mNone\u001b[0m, \u001b[38;5;34m6\u001b[0m, \u001b[38;5;34m64\u001b[0m)          │             \u001b[38;5;34m0\u001b[0m │\n",
       "├─────────────────────────────────┼────────────────────────┼───────────────┤\n",
       "│ conv1d_15 (\u001b[38;5;33mConv1D\u001b[0m)              │ (\u001b[38;5;45mNone\u001b[0m, \u001b[38;5;34m4\u001b[0m, \u001b[38;5;34m128\u001b[0m)         │        \u001b[38;5;34m24,704\u001b[0m │\n",
       "├─────────────────────────────────┼────────────────────────┼───────────────┤\n",
       "│ max_pooling1d_15 (\u001b[38;5;33mMaxPooling1D\u001b[0m) │ (\u001b[38;5;45mNone\u001b[0m, \u001b[38;5;34m2\u001b[0m, \u001b[38;5;34m128\u001b[0m)         │             \u001b[38;5;34m0\u001b[0m │\n",
       "├─────────────────────────────────┼────────────────────────┼───────────────┤\n",
       "│ flatten_7 (\u001b[38;5;33mFlatten\u001b[0m)             │ (\u001b[38;5;45mNone\u001b[0m, \u001b[38;5;34m256\u001b[0m)            │             \u001b[38;5;34m0\u001b[0m │\n",
       "├─────────────────────────────────┼────────────────────────┼───────────────┤\n",
       "│ dense_14 (\u001b[38;5;33mDense\u001b[0m)                │ (\u001b[38;5;45mNone\u001b[0m, \u001b[38;5;34m32\u001b[0m)             │         \u001b[38;5;34m8,224\u001b[0m │\n",
       "├─────────────────────────────────┼────────────────────────┼───────────────┤\n",
       "│ dropout_7 (\u001b[38;5;33mDropout\u001b[0m)             │ (\u001b[38;5;45mNone\u001b[0m, \u001b[38;5;34m32\u001b[0m)             │             \u001b[38;5;34m0\u001b[0m │\n",
       "├─────────────────────────────────┼────────────────────────┼───────────────┤\n",
       "│ dense_15 (\u001b[38;5;33mDense\u001b[0m)                │ (\u001b[38;5;45mNone\u001b[0m, \u001b[38;5;34m15\u001b[0m)             │           \u001b[38;5;34m495\u001b[0m │\n",
       "└─────────────────────────────────┴────────────────────────┴───────────────┘\n"
      ]
     },
     "metadata": {},
     "output_type": "display_data"
    },
    {
     "data": {
      "text/html": [
       "<pre style=\"white-space:pre;overflow-x:auto;line-height:normal;font-family:Menlo,'DejaVu Sans Mono',consolas,'Courier New',monospace\"><span style=\"font-weight: bold\"> Total params: </span><span style=\"color: #00af00; text-decoration-color: #00af00\">35,215</span> (137.56 KB)\n",
       "</pre>\n"
      ],
      "text/plain": [
       "\u001b[1m Total params: \u001b[0m\u001b[38;5;34m35,215\u001b[0m (137.56 KB)\n"
      ]
     },
     "metadata": {},
     "output_type": "display_data"
    },
    {
     "data": {
      "text/html": [
       "<pre style=\"white-space:pre;overflow-x:auto;line-height:normal;font-family:Menlo,'DejaVu Sans Mono',consolas,'Courier New',monospace\"><span style=\"font-weight: bold\"> Trainable params: </span><span style=\"color: #00af00; text-decoration-color: #00af00\">35,215</span> (137.56 KB)\n",
       "</pre>\n"
      ],
      "text/plain": [
       "\u001b[1m Trainable params: \u001b[0m\u001b[38;5;34m35,215\u001b[0m (137.56 KB)\n"
      ]
     },
     "metadata": {},
     "output_type": "display_data"
    },
    {
     "data": {
      "text/html": [
       "<pre style=\"white-space:pre;overflow-x:auto;line-height:normal;font-family:Menlo,'DejaVu Sans Mono',consolas,'Courier New',monospace\"><span style=\"font-weight: bold\"> Non-trainable params: </span><span style=\"color: #00af00; text-decoration-color: #00af00\">0</span> (0.00 B)\n",
       "</pre>\n"
      ],
      "text/plain": [
       "\u001b[1m Non-trainable params: \u001b[0m\u001b[38;5;34m0\u001b[0m (0.00 B)\n"
      ]
     },
     "metadata": {},
     "output_type": "display_data"
    }
   ],
   "source": [
    "model.compile(optimizer='adam',\n",
    "              loss='categorical_crossentropy',\n",
    "              metrics=['accuracy'])\n",
    "\n",
    "model.summary()"
   ]
  },
  {
   "cell_type": "code",
   "execution_count": 189,
   "id": "c58e257e-49c1-4260-9e5a-f77e842c1cc0",
   "metadata": {},
   "outputs": [
    {
     "name": "stdout",
     "output_type": "stream",
     "text": [
      "Epoch 1/10\n",
      "1076/1076 - 10s - 9ms/step - accuracy: 0.0913 - loss: 16713397.0000\n",
      "Epoch 2/10\n",
      "1076/1076 - 10s - 9ms/step - accuracy: 0.0999 - loss: 128119864.0000\n",
      "Epoch 3/10\n",
      "1076/1076 - 11s - 10ms/step - accuracy: 0.0967 - loss: 377603648.0000\n",
      "Epoch 4/10\n",
      "1076/1076 - 7s - 6ms/step - accuracy: 0.0935 - loss: 903614464.0000\n",
      "Epoch 5/10\n",
      "1076/1076 - 10s - 10ms/step - accuracy: 0.0937 - loss: 1850343040.0000\n",
      "Epoch 6/10\n",
      "1076/1076 - 11s - 10ms/step - accuracy: 0.0967 - loss: 3349254144.0000\n",
      "Epoch 7/10\n",
      "1076/1076 - 10s - 10ms/step - accuracy: 0.0962 - loss: 5561186816.0000\n",
      "Epoch 8/10\n",
      "1076/1076 - 7s - 6ms/step - accuracy: 0.0974 - loss: 8468894208.0000\n",
      "Epoch 9/10\n",
      "1076/1076 - 7s - 7ms/step - accuracy: 0.1000 - loss: 12459792384.0000\n",
      "Epoch 10/10\n",
      "1076/1076 - 7s - 7ms/step - accuracy: 0.0963 - loss: 17711681536.0000\n",
      "\u001b[1m538/538\u001b[0m \u001b[32m━━━━━━━━━━━━━━━━━━━━\u001b[0m\u001b[37m\u001b[0m \u001b[1m4s\u001b[0m 6ms/step - accuracy: 0.0727 - loss: 20629897216.0000\n",
      "Loss: 20629897216.0 Accuracy 0.07268185168504715\n"
     ]
    }
   ],
   "source": [
    "epochs = 10\n",
    "batch_size = 16\n",
    "model.fit(X_train, y_train, batch_size=batch_size, epochs=epochs, verbose=2)\n",
    "acc = model.evaluate(X_train,y_train)\n",
    "print('Loss:', acc[0], 'Accuracy', acc[1])"
   ]
  },
  {
   "cell_type": "code",
   "execution_count": 198,
   "id": "81d68bd9-cb90-44c7-bb5a-6218f99720f2",
   "metadata": {},
   "outputs": [],
   "source": [
    "# confusion matrix\n",
    "\n",
    "def confusion_matrix(y_true, y_pred):\n",
    "    y_true = pd.Series([stations[y] for y in np.argmax(y_true, axis=1)])\n",
    "    y_pred = pd.Series([stations[y] for y in np.argmax(y_pred, axis=1)])\n",
    "\n",
    "    return pd.crosstab(y_true, y_pred, rownames=['True'], colnames=['Pred'])\n",
    "    "
   ]
  },
  {
   "cell_type": "code",
   "execution_count": 200,
   "id": "3ac9c544-b2ec-415c-a367-50f83676b708",
   "metadata": {},
   "outputs": [
    {
     "name": "stdout",
     "output_type": "stream",
     "text": [
      "\u001b[1m180/180\u001b[0m \u001b[32m━━━━━━━━━━━━━━━━━━━━\u001b[0m\u001b[37m\u001b[0m \u001b[1m1s\u001b[0m 5ms/step\n",
      "Pred        KASSEL  MADRID  OSLO  SONNBLICK  VALENTIA\n",
      "True                                                 \n",
      "BASEL           48    3550    14         67         3\n",
      "BELGRADE         0    1092     0          0         0\n",
      "BUDAPEST         0     214     0          0         0\n",
      "DEBILT           0      82     0          0         0\n",
      "DUSSELDORF       0      29     0          0         0\n",
      "HEATHROW         0      82     0          0         0\n",
      "KASSEL           0      11     0          0         0\n",
      "LJUBLJANA        0      61     0          0         0\n",
      "MAASTRICHT       0       9     0          0         0\n",
      "MADRID           1     457     0          0         0\n",
      "MUNCHENB         0       8     0          0         0\n",
      "OSLO             0       5     0          0         0\n",
      "STOCKHOLM        0       4     0          0         0\n",
      "VALENTIA         0       1     0          0         0\n"
     ]
    }
   ],
   "source": [
    "#confusion matrix result\n",
    "print(confusion_matrix(y_test, model.predict(X_test)))"
   ]
  },
  {
   "cell_type": "code",
   "execution_count": 202,
   "id": "44540cd0-2d7b-4445-b660-7df2d46784ba",
   "metadata": {},
   "outputs": [
    {
     "name": "stderr",
     "output_type": "stream",
     "text": [
      "C:\\Users\\karim\\anaconda3\\Lib\\site-packages\\keras\\src\\layers\\convolutional\\base_conv.py:113: UserWarning: Do not pass an `input_shape`/`input_dim` argument to a layer. When using Sequential models, prefer using an `Input(shape)` object as the first layer in the model instead.\n",
      "  super().__init__(activity_regularizer=activity_regularizer, **kwargs)\n"
     ]
    }
   ],
   "source": [
    "#2nd CNN test\n",
    "#parameters used(n_hidden=64,epochs = 15,batch_size = 16)\n",
    "n_hidden=64\n",
    "model = Sequential([\n",
    "    Conv1D(filters=64, kernel_size=3, activation='relu', input_shape=(15, 9)),\n",
    "    MaxPooling1D(pool_size=2),\n",
    "    \n",
    "    Conv1D(filters=128, kernel_size=3, activation='relu'),\n",
    "    MaxPooling1D(pool_size=2),\n",
    "    \n",
    "    Flatten(),\n",
    "    Dense(n_hidden, activation='relu'),\n",
    "    Dropout(0.5),\n",
    "    Dense(15, activation='softmax')  # 15 activity classes\n",
    "])"
   ]
  },
  {
   "cell_type": "code",
   "execution_count": 204,
   "id": "79c6f9b7-37b8-4a34-b094-db7af3d4beae",
   "metadata": {},
   "outputs": [
    {
     "data": {
      "text/html": [
       "<pre style=\"white-space:pre;overflow-x:auto;line-height:normal;font-family:Menlo,'DejaVu Sans Mono',consolas,'Courier New',monospace\"><span style=\"font-weight: bold\">Model: \"sequential_8\"</span>\n",
       "</pre>\n"
      ],
      "text/plain": [
       "\u001b[1mModel: \"sequential_8\"\u001b[0m\n"
      ]
     },
     "metadata": {},
     "output_type": "display_data"
    },
    {
     "data": {
      "text/html": [
       "<pre style=\"white-space:pre;overflow-x:auto;line-height:normal;font-family:Menlo,'DejaVu Sans Mono',consolas,'Courier New',monospace\">┏━━━━━━━━━━━━━━━━━━━━━━━━━━━━━━━━━┳━━━━━━━━━━━━━━━━━━━━━━━━┳━━━━━━━━━━━━━━━┓\n",
       "┃<span style=\"font-weight: bold\"> Layer (type)                    </span>┃<span style=\"font-weight: bold\"> Output Shape           </span>┃<span style=\"font-weight: bold\">       Param # </span>┃\n",
       "┡━━━━━━━━━━━━━━━━━━━━━━━━━━━━━━━━━╇━━━━━━━━━━━━━━━━━━━━━━━━╇━━━━━━━━━━━━━━━┩\n",
       "│ conv1d_16 (<span style=\"color: #0087ff; text-decoration-color: #0087ff\">Conv1D</span>)              │ (<span style=\"color: #00d7ff; text-decoration-color: #00d7ff\">None</span>, <span style=\"color: #00af00; text-decoration-color: #00af00\">13</span>, <span style=\"color: #00af00; text-decoration-color: #00af00\">64</span>)         │         <span style=\"color: #00af00; text-decoration-color: #00af00\">1,792</span> │\n",
       "├─────────────────────────────────┼────────────────────────┼───────────────┤\n",
       "│ max_pooling1d_16 (<span style=\"color: #0087ff; text-decoration-color: #0087ff\">MaxPooling1D</span>) │ (<span style=\"color: #00d7ff; text-decoration-color: #00d7ff\">None</span>, <span style=\"color: #00af00; text-decoration-color: #00af00\">6</span>, <span style=\"color: #00af00; text-decoration-color: #00af00\">64</span>)          │             <span style=\"color: #00af00; text-decoration-color: #00af00\">0</span> │\n",
       "├─────────────────────────────────┼────────────────────────┼───────────────┤\n",
       "│ conv1d_17 (<span style=\"color: #0087ff; text-decoration-color: #0087ff\">Conv1D</span>)              │ (<span style=\"color: #00d7ff; text-decoration-color: #00d7ff\">None</span>, <span style=\"color: #00af00; text-decoration-color: #00af00\">4</span>, <span style=\"color: #00af00; text-decoration-color: #00af00\">128</span>)         │        <span style=\"color: #00af00; text-decoration-color: #00af00\">24,704</span> │\n",
       "├─────────────────────────────────┼────────────────────────┼───────────────┤\n",
       "│ max_pooling1d_17 (<span style=\"color: #0087ff; text-decoration-color: #0087ff\">MaxPooling1D</span>) │ (<span style=\"color: #00d7ff; text-decoration-color: #00d7ff\">None</span>, <span style=\"color: #00af00; text-decoration-color: #00af00\">2</span>, <span style=\"color: #00af00; text-decoration-color: #00af00\">128</span>)         │             <span style=\"color: #00af00; text-decoration-color: #00af00\">0</span> │\n",
       "├─────────────────────────────────┼────────────────────────┼───────────────┤\n",
       "│ flatten_8 (<span style=\"color: #0087ff; text-decoration-color: #0087ff\">Flatten</span>)             │ (<span style=\"color: #00d7ff; text-decoration-color: #00d7ff\">None</span>, <span style=\"color: #00af00; text-decoration-color: #00af00\">256</span>)            │             <span style=\"color: #00af00; text-decoration-color: #00af00\">0</span> │\n",
       "├─────────────────────────────────┼────────────────────────┼───────────────┤\n",
       "│ dense_16 (<span style=\"color: #0087ff; text-decoration-color: #0087ff\">Dense</span>)                │ (<span style=\"color: #00d7ff; text-decoration-color: #00d7ff\">None</span>, <span style=\"color: #00af00; text-decoration-color: #00af00\">64</span>)             │        <span style=\"color: #00af00; text-decoration-color: #00af00\">16,448</span> │\n",
       "├─────────────────────────────────┼────────────────────────┼───────────────┤\n",
       "│ dropout_8 (<span style=\"color: #0087ff; text-decoration-color: #0087ff\">Dropout</span>)             │ (<span style=\"color: #00d7ff; text-decoration-color: #00d7ff\">None</span>, <span style=\"color: #00af00; text-decoration-color: #00af00\">64</span>)             │             <span style=\"color: #00af00; text-decoration-color: #00af00\">0</span> │\n",
       "├─────────────────────────────────┼────────────────────────┼───────────────┤\n",
       "│ dense_17 (<span style=\"color: #0087ff; text-decoration-color: #0087ff\">Dense</span>)                │ (<span style=\"color: #00d7ff; text-decoration-color: #00d7ff\">None</span>, <span style=\"color: #00af00; text-decoration-color: #00af00\">15</span>)             │           <span style=\"color: #00af00; text-decoration-color: #00af00\">975</span> │\n",
       "└─────────────────────────────────┴────────────────────────┴───────────────┘\n",
       "</pre>\n"
      ],
      "text/plain": [
       "┏━━━━━━━━━━━━━━━━━━━━━━━━━━━━━━━━━┳━━━━━━━━━━━━━━━━━━━━━━━━┳━━━━━━━━━━━━━━━┓\n",
       "┃\u001b[1m \u001b[0m\u001b[1mLayer (type)                   \u001b[0m\u001b[1m \u001b[0m┃\u001b[1m \u001b[0m\u001b[1mOutput Shape          \u001b[0m\u001b[1m \u001b[0m┃\u001b[1m \u001b[0m\u001b[1m      Param #\u001b[0m\u001b[1m \u001b[0m┃\n",
       "┡━━━━━━━━━━━━━━━━━━━━━━━━━━━━━━━━━╇━━━━━━━━━━━━━━━━━━━━━━━━╇━━━━━━━━━━━━━━━┩\n",
       "│ conv1d_16 (\u001b[38;5;33mConv1D\u001b[0m)              │ (\u001b[38;5;45mNone\u001b[0m, \u001b[38;5;34m13\u001b[0m, \u001b[38;5;34m64\u001b[0m)         │         \u001b[38;5;34m1,792\u001b[0m │\n",
       "├─────────────────────────────────┼────────────────────────┼───────────────┤\n",
       "│ max_pooling1d_16 (\u001b[38;5;33mMaxPooling1D\u001b[0m) │ (\u001b[38;5;45mNone\u001b[0m, \u001b[38;5;34m6\u001b[0m, \u001b[38;5;34m64\u001b[0m)          │             \u001b[38;5;34m0\u001b[0m │\n",
       "├─────────────────────────────────┼────────────────────────┼───────────────┤\n",
       "│ conv1d_17 (\u001b[38;5;33mConv1D\u001b[0m)              │ (\u001b[38;5;45mNone\u001b[0m, \u001b[38;5;34m4\u001b[0m, \u001b[38;5;34m128\u001b[0m)         │        \u001b[38;5;34m24,704\u001b[0m │\n",
       "├─────────────────────────────────┼────────────────────────┼───────────────┤\n",
       "│ max_pooling1d_17 (\u001b[38;5;33mMaxPooling1D\u001b[0m) │ (\u001b[38;5;45mNone\u001b[0m, \u001b[38;5;34m2\u001b[0m, \u001b[38;5;34m128\u001b[0m)         │             \u001b[38;5;34m0\u001b[0m │\n",
       "├─────────────────────────────────┼────────────────────────┼───────────────┤\n",
       "│ flatten_8 (\u001b[38;5;33mFlatten\u001b[0m)             │ (\u001b[38;5;45mNone\u001b[0m, \u001b[38;5;34m256\u001b[0m)            │             \u001b[38;5;34m0\u001b[0m │\n",
       "├─────────────────────────────────┼────────────────────────┼───────────────┤\n",
       "│ dense_16 (\u001b[38;5;33mDense\u001b[0m)                │ (\u001b[38;5;45mNone\u001b[0m, \u001b[38;5;34m64\u001b[0m)             │        \u001b[38;5;34m16,448\u001b[0m │\n",
       "├─────────────────────────────────┼────────────────────────┼───────────────┤\n",
       "│ dropout_8 (\u001b[38;5;33mDropout\u001b[0m)             │ (\u001b[38;5;45mNone\u001b[0m, \u001b[38;5;34m64\u001b[0m)             │             \u001b[38;5;34m0\u001b[0m │\n",
       "├─────────────────────────────────┼────────────────────────┼───────────────┤\n",
       "│ dense_17 (\u001b[38;5;33mDense\u001b[0m)                │ (\u001b[38;5;45mNone\u001b[0m, \u001b[38;5;34m15\u001b[0m)             │           \u001b[38;5;34m975\u001b[0m │\n",
       "└─────────────────────────────────┴────────────────────────┴───────────────┘\n"
      ]
     },
     "metadata": {},
     "output_type": "display_data"
    },
    {
     "data": {
      "text/html": [
       "<pre style=\"white-space:pre;overflow-x:auto;line-height:normal;font-family:Menlo,'DejaVu Sans Mono',consolas,'Courier New',monospace\"><span style=\"font-weight: bold\"> Total params: </span><span style=\"color: #00af00; text-decoration-color: #00af00\">43,919</span> (171.56 KB)\n",
       "</pre>\n"
      ],
      "text/plain": [
       "\u001b[1m Total params: \u001b[0m\u001b[38;5;34m43,919\u001b[0m (171.56 KB)\n"
      ]
     },
     "metadata": {},
     "output_type": "display_data"
    },
    {
     "data": {
      "text/html": [
       "<pre style=\"white-space:pre;overflow-x:auto;line-height:normal;font-family:Menlo,'DejaVu Sans Mono',consolas,'Courier New',monospace\"><span style=\"font-weight: bold\"> Trainable params: </span><span style=\"color: #00af00; text-decoration-color: #00af00\">43,919</span> (171.56 KB)\n",
       "</pre>\n"
      ],
      "text/plain": [
       "\u001b[1m Trainable params: \u001b[0m\u001b[38;5;34m43,919\u001b[0m (171.56 KB)\n"
      ]
     },
     "metadata": {},
     "output_type": "display_data"
    },
    {
     "data": {
      "text/html": [
       "<pre style=\"white-space:pre;overflow-x:auto;line-height:normal;font-family:Menlo,'DejaVu Sans Mono',consolas,'Courier New',monospace\"><span style=\"font-weight: bold\"> Non-trainable params: </span><span style=\"color: #00af00; text-decoration-color: #00af00\">0</span> (0.00 B)\n",
       "</pre>\n"
      ],
      "text/plain": [
       "\u001b[1m Non-trainable params: \u001b[0m\u001b[38;5;34m0\u001b[0m (0.00 B)\n"
      ]
     },
     "metadata": {},
     "output_type": "display_data"
    }
   ],
   "source": [
    "model.compile(optimizer='adam',\n",
    "              loss='categorical_crossentropy',\n",
    "              metrics=['accuracy'])\n",
    "\n",
    "model.summary()"
   ]
  },
  {
   "cell_type": "code",
   "execution_count": 208,
   "id": "f7c4a2a9-b8d7-4997-9d99-daed2f32e52b",
   "metadata": {},
   "outputs": [
    {
     "name": "stdout",
     "output_type": "stream",
     "text": [
      "Epoch 1/15\n",
      "1076/1076 - 7s - 6ms/step - accuracy: 0.0971 - loss: 25167603712.0000\n",
      "Epoch 2/15\n",
      "1076/1076 - 10s - 9ms/step - accuracy: 0.0968 - loss: 36510007296.0000\n",
      "Epoch 3/15\n",
      "1076/1076 - 11s - 11ms/step - accuracy: 0.1029 - loss: 50492379136.0000\n",
      "Epoch 4/15\n",
      "1076/1076 - 8s - 7ms/step - accuracy: 0.0998 - loss: 68381380608.0000\n",
      "Epoch 5/15\n",
      "1076/1076 - 7s - 6ms/step - accuracy: 0.1024 - loss: 90253279232.0000\n",
      "Epoch 6/15\n",
      "1076/1076 - 11s - 10ms/step - accuracy: 0.0995 - loss: 115878658048.0000\n",
      "Epoch 7/15\n",
      "1076/1076 - 10s - 9ms/step - accuracy: 0.0963 - loss: 147649396736.0000\n",
      "Epoch 8/15\n",
      "1076/1076 - 11s - 10ms/step - accuracy: 0.1012 - loss: 182943154176.0000\n",
      "Epoch 9/15\n",
      "1076/1076 - 8s - 7ms/step - accuracy: 0.0980 - loss: 227035234304.0000\n",
      "Epoch 10/15\n",
      "1076/1076 - 10s - 9ms/step - accuracy: 0.1024 - loss: 278015770624.0000\n",
      "Epoch 11/15\n",
      "1076/1076 - 10s - 9ms/step - accuracy: 0.1022 - loss: 332898500608.0000\n",
      "Epoch 12/15\n",
      "1076/1076 - 8s - 7ms/step - accuracy: 0.0981 - loss: 402066669568.0000\n",
      "Epoch 13/15\n",
      "1076/1076 - 10s - 9ms/step - accuracy: 0.1018 - loss: 470612639744.0000\n",
      "Epoch 14/15\n",
      "1076/1076 - 8s - 7ms/step - accuracy: 0.0988 - loss: 561751523328.0000\n",
      "Epoch 15/15\n",
      "1076/1076 - 10s - 10ms/step - accuracy: 0.1023 - loss: 650008920064.0000\n",
      "\u001b[1m538/538\u001b[0m \u001b[32m━━━━━━━━━━━━━━━━━━━━\u001b[0m\u001b[37m\u001b[0m \u001b[1m3s\u001b[0m 5ms/step - accuracy: 0.1946 - loss: 701199089664.0000\n",
      "Loss: 701199089664.0 Accuracy 0.1945735514163971\n"
     ]
    }
   ],
   "source": [
    "epochs = 15\n",
    "batch_size = 16\n",
    "model.fit(X_train, y_train, batch_size=batch_size, epochs=epochs, verbose=2)\n",
    "acc = model.evaluate(X_train,y_train)\n",
    "print('Loss:', acc[0], 'Accuracy', acc[1])"
   ]
  },
  {
   "cell_type": "code",
   "execution_count": 212,
   "id": "5749aa46-e9e9-477b-9c64-91c53ed7eafa",
   "metadata": {},
   "outputs": [],
   "source": [
    "# 2nd confusion matrix\n",
    "\n",
    "def confusion_matrix(y_true, y_pred):\n",
    "    y_true = pd.Series([stations[y] for y in np.argmax(y_true, axis=1)])\n",
    "    y_pred = pd.Series([stations[y] for y in np.argmax(y_pred, axis=1)])\n",
    "\n",
    "    return pd.crosstab(y_true, y_pred, rownames=['True'], colnames=['Pred'])"
   ]
  },
  {
   "cell_type": "code",
   "execution_count": 214,
   "id": "c7a7a0f8-21be-4962-a8b6-4f158239a416",
   "metadata": {},
   "outputs": [
    {
     "name": "stdout",
     "output_type": "stream",
     "text": [
      "\u001b[1m180/180\u001b[0m \u001b[32m━━━━━━━━━━━━━━━━━━━━\u001b[0m\u001b[37m\u001b[0m \u001b[1m1s\u001b[0m 5ms/step\n",
      "Pred        BELGRADE  HEATHROW  KASSEL  VALENTIA\n",
      "True                                            \n",
      "BASEL           3457       103      67        55\n",
      "BELGRADE        1092         0       0         0\n",
      "BUDAPEST         214         0       0         0\n",
      "DEBILT            82         0       0         0\n",
      "DUSSELDORF        29         0       0         0\n",
      "HEATHROW          82         0       0         0\n",
      "KASSEL            11         0       0         0\n",
      "LJUBLJANA         61         0       0         0\n",
      "MAASTRICHT         9         0       0         0\n",
      "MADRID           457         0       1         0\n",
      "MUNCHENB           8         0       0         0\n",
      "OSLO               5         0       0         0\n",
      "STOCKHOLM          4         0       0         0\n",
      "VALENTIA           1         0       0         0\n"
     ]
    }
   ],
   "source": [
    "#2nd confusion matrix result\n",
    "print(confusion_matrix(y_test, model.predict(X_test)))"
   ]
  },
  {
   "cell_type": "code",
   "execution_count": 247,
   "id": "8d0878d4-577c-4aa4-9d6c-4d180e76b3c2",
   "metadata": {},
   "outputs": [
    {
     "name": "stderr",
     "output_type": "stream",
     "text": [
      "C:\\Users\\karim\\anaconda3\\Lib\\site-packages\\keras\\src\\layers\\convolutional\\base_conv.py:113: UserWarning: Do not pass an `input_shape`/`input_dim` argument to a layer. When using Sequential models, prefer using an `Input(shape)` object as the first layer in the model instead.\n",
      "  super().__init__(activity_regularizer=activity_regularizer, **kwargs)\n"
     ]
    }
   ],
   "source": [
    "#3rd CNN test\n",
    "#parameters used(n_hidden=128,epochs = 15,batch_size = 32)\n",
    "n_hidden=128\n",
    "model = Sequential([\n",
    "    Conv1D(filters=64, kernel_size=3, activation='relu', input_shape=(15, 9)),\n",
    "    MaxPooling1D(pool_size=2),\n",
    "    \n",
    "    Conv1D(filters=128, kernel_size=3, activation='relu'),\n",
    "    MaxPooling1D(pool_size=2),\n",
    "    \n",
    "    Flatten(),\n",
    "    Dense(n_hidden, activation='relu'),\n",
    "    Dropout(0.5),\n",
    "    Dense(15, activation='softmax')  # 15 activity classes\n",
    "])"
   ]
  },
  {
   "cell_type": "code",
   "execution_count": 249,
   "id": "0b09aed1-7a38-4329-8a2d-c5b65c01c3e4",
   "metadata": {},
   "outputs": [
    {
     "data": {
      "text/html": [
       "<pre style=\"white-space:pre;overflow-x:auto;line-height:normal;font-family:Menlo,'DejaVu Sans Mono',consolas,'Courier New',monospace\"><span style=\"font-weight: bold\">Model: \"sequential_13\"</span>\n",
       "</pre>\n"
      ],
      "text/plain": [
       "\u001b[1mModel: \"sequential_13\"\u001b[0m\n"
      ]
     },
     "metadata": {},
     "output_type": "display_data"
    },
    {
     "data": {
      "text/html": [
       "<pre style=\"white-space:pre;overflow-x:auto;line-height:normal;font-family:Menlo,'DejaVu Sans Mono',consolas,'Courier New',monospace\">┏━━━━━━━━━━━━━━━━━━━━━━━━━━━━━━━━━┳━━━━━━━━━━━━━━━━━━━━━━━━┳━━━━━━━━━━━━━━━┓\n",
       "┃<span style=\"font-weight: bold\"> Layer (type)                    </span>┃<span style=\"font-weight: bold\"> Output Shape           </span>┃<span style=\"font-weight: bold\">       Param # </span>┃\n",
       "┡━━━━━━━━━━━━━━━━━━━━━━━━━━━━━━━━━╇━━━━━━━━━━━━━━━━━━━━━━━━╇━━━━━━━━━━━━━━━┩\n",
       "│ conv1d_26 (<span style=\"color: #0087ff; text-decoration-color: #0087ff\">Conv1D</span>)              │ (<span style=\"color: #00d7ff; text-decoration-color: #00d7ff\">None</span>, <span style=\"color: #00af00; text-decoration-color: #00af00\">13</span>, <span style=\"color: #00af00; text-decoration-color: #00af00\">64</span>)         │         <span style=\"color: #00af00; text-decoration-color: #00af00\">1,792</span> │\n",
       "├─────────────────────────────────┼────────────────────────┼───────────────┤\n",
       "│ max_pooling1d_26 (<span style=\"color: #0087ff; text-decoration-color: #0087ff\">MaxPooling1D</span>) │ (<span style=\"color: #00d7ff; text-decoration-color: #00d7ff\">None</span>, <span style=\"color: #00af00; text-decoration-color: #00af00\">6</span>, <span style=\"color: #00af00; text-decoration-color: #00af00\">64</span>)          │             <span style=\"color: #00af00; text-decoration-color: #00af00\">0</span> │\n",
       "├─────────────────────────────────┼────────────────────────┼───────────────┤\n",
       "│ conv1d_27 (<span style=\"color: #0087ff; text-decoration-color: #0087ff\">Conv1D</span>)              │ (<span style=\"color: #00d7ff; text-decoration-color: #00d7ff\">None</span>, <span style=\"color: #00af00; text-decoration-color: #00af00\">4</span>, <span style=\"color: #00af00; text-decoration-color: #00af00\">128</span>)         │        <span style=\"color: #00af00; text-decoration-color: #00af00\">24,704</span> │\n",
       "├─────────────────────────────────┼────────────────────────┼───────────────┤\n",
       "│ max_pooling1d_27 (<span style=\"color: #0087ff; text-decoration-color: #0087ff\">MaxPooling1D</span>) │ (<span style=\"color: #00d7ff; text-decoration-color: #00d7ff\">None</span>, <span style=\"color: #00af00; text-decoration-color: #00af00\">2</span>, <span style=\"color: #00af00; text-decoration-color: #00af00\">128</span>)         │             <span style=\"color: #00af00; text-decoration-color: #00af00\">0</span> │\n",
       "├─────────────────────────────────┼────────────────────────┼───────────────┤\n",
       "│ flatten_13 (<span style=\"color: #0087ff; text-decoration-color: #0087ff\">Flatten</span>)            │ (<span style=\"color: #00d7ff; text-decoration-color: #00d7ff\">None</span>, <span style=\"color: #00af00; text-decoration-color: #00af00\">256</span>)            │             <span style=\"color: #00af00; text-decoration-color: #00af00\">0</span> │\n",
       "├─────────────────────────────────┼────────────────────────┼───────────────┤\n",
       "│ dense_26 (<span style=\"color: #0087ff; text-decoration-color: #0087ff\">Dense</span>)                │ (<span style=\"color: #00d7ff; text-decoration-color: #00d7ff\">None</span>, <span style=\"color: #00af00; text-decoration-color: #00af00\">128</span>)            │        <span style=\"color: #00af00; text-decoration-color: #00af00\">32,896</span> │\n",
       "├─────────────────────────────────┼────────────────────────┼───────────────┤\n",
       "│ dropout_13 (<span style=\"color: #0087ff; text-decoration-color: #0087ff\">Dropout</span>)            │ (<span style=\"color: #00d7ff; text-decoration-color: #00d7ff\">None</span>, <span style=\"color: #00af00; text-decoration-color: #00af00\">128</span>)            │             <span style=\"color: #00af00; text-decoration-color: #00af00\">0</span> │\n",
       "├─────────────────────────────────┼────────────────────────┼───────────────┤\n",
       "│ dense_27 (<span style=\"color: #0087ff; text-decoration-color: #0087ff\">Dense</span>)                │ (<span style=\"color: #00d7ff; text-decoration-color: #00d7ff\">None</span>, <span style=\"color: #00af00; text-decoration-color: #00af00\">15</span>)             │         <span style=\"color: #00af00; text-decoration-color: #00af00\">1,935</span> │\n",
       "└─────────────────────────────────┴────────────────────────┴───────────────┘\n",
       "</pre>\n"
      ],
      "text/plain": [
       "┏━━━━━━━━━━━━━━━━━━━━━━━━━━━━━━━━━┳━━━━━━━━━━━━━━━━━━━━━━━━┳━━━━━━━━━━━━━━━┓\n",
       "┃\u001b[1m \u001b[0m\u001b[1mLayer (type)                   \u001b[0m\u001b[1m \u001b[0m┃\u001b[1m \u001b[0m\u001b[1mOutput Shape          \u001b[0m\u001b[1m \u001b[0m┃\u001b[1m \u001b[0m\u001b[1m      Param #\u001b[0m\u001b[1m \u001b[0m┃\n",
       "┡━━━━━━━━━━━━━━━━━━━━━━━━━━━━━━━━━╇━━━━━━━━━━━━━━━━━━━━━━━━╇━━━━━━━━━━━━━━━┩\n",
       "│ conv1d_26 (\u001b[38;5;33mConv1D\u001b[0m)              │ (\u001b[38;5;45mNone\u001b[0m, \u001b[38;5;34m13\u001b[0m, \u001b[38;5;34m64\u001b[0m)         │         \u001b[38;5;34m1,792\u001b[0m │\n",
       "├─────────────────────────────────┼────────────────────────┼───────────────┤\n",
       "│ max_pooling1d_26 (\u001b[38;5;33mMaxPooling1D\u001b[0m) │ (\u001b[38;5;45mNone\u001b[0m, \u001b[38;5;34m6\u001b[0m, \u001b[38;5;34m64\u001b[0m)          │             \u001b[38;5;34m0\u001b[0m │\n",
       "├─────────────────────────────────┼────────────────────────┼───────────────┤\n",
       "│ conv1d_27 (\u001b[38;5;33mConv1D\u001b[0m)              │ (\u001b[38;5;45mNone\u001b[0m, \u001b[38;5;34m4\u001b[0m, \u001b[38;5;34m128\u001b[0m)         │        \u001b[38;5;34m24,704\u001b[0m │\n",
       "├─────────────────────────────────┼────────────────────────┼───────────────┤\n",
       "│ max_pooling1d_27 (\u001b[38;5;33mMaxPooling1D\u001b[0m) │ (\u001b[38;5;45mNone\u001b[0m, \u001b[38;5;34m2\u001b[0m, \u001b[38;5;34m128\u001b[0m)         │             \u001b[38;5;34m0\u001b[0m │\n",
       "├─────────────────────────────────┼────────────────────────┼───────────────┤\n",
       "│ flatten_13 (\u001b[38;5;33mFlatten\u001b[0m)            │ (\u001b[38;5;45mNone\u001b[0m, \u001b[38;5;34m256\u001b[0m)            │             \u001b[38;5;34m0\u001b[0m │\n",
       "├─────────────────────────────────┼────────────────────────┼───────────────┤\n",
       "│ dense_26 (\u001b[38;5;33mDense\u001b[0m)                │ (\u001b[38;5;45mNone\u001b[0m, \u001b[38;5;34m128\u001b[0m)            │        \u001b[38;5;34m32,896\u001b[0m │\n",
       "├─────────────────────────────────┼────────────────────────┼───────────────┤\n",
       "│ dropout_13 (\u001b[38;5;33mDropout\u001b[0m)            │ (\u001b[38;5;45mNone\u001b[0m, \u001b[38;5;34m128\u001b[0m)            │             \u001b[38;5;34m0\u001b[0m │\n",
       "├─────────────────────────────────┼────────────────────────┼───────────────┤\n",
       "│ dense_27 (\u001b[38;5;33mDense\u001b[0m)                │ (\u001b[38;5;45mNone\u001b[0m, \u001b[38;5;34m15\u001b[0m)             │         \u001b[38;5;34m1,935\u001b[0m │\n",
       "└─────────────────────────────────┴────────────────────────┴───────────────┘\n"
      ]
     },
     "metadata": {},
     "output_type": "display_data"
    },
    {
     "data": {
      "text/html": [
       "<pre style=\"white-space:pre;overflow-x:auto;line-height:normal;font-family:Menlo,'DejaVu Sans Mono',consolas,'Courier New',monospace\"><span style=\"font-weight: bold\"> Total params: </span><span style=\"color: #00af00; text-decoration-color: #00af00\">61,327</span> (239.56 KB)\n",
       "</pre>\n"
      ],
      "text/plain": [
       "\u001b[1m Total params: \u001b[0m\u001b[38;5;34m61,327\u001b[0m (239.56 KB)\n"
      ]
     },
     "metadata": {},
     "output_type": "display_data"
    },
    {
     "data": {
      "text/html": [
       "<pre style=\"white-space:pre;overflow-x:auto;line-height:normal;font-family:Menlo,'DejaVu Sans Mono',consolas,'Courier New',monospace\"><span style=\"font-weight: bold\"> Trainable params: </span><span style=\"color: #00af00; text-decoration-color: #00af00\">61,327</span> (239.56 KB)\n",
       "</pre>\n"
      ],
      "text/plain": [
       "\u001b[1m Trainable params: \u001b[0m\u001b[38;5;34m61,327\u001b[0m (239.56 KB)\n"
      ]
     },
     "metadata": {},
     "output_type": "display_data"
    },
    {
     "data": {
      "text/html": [
       "<pre style=\"white-space:pre;overflow-x:auto;line-height:normal;font-family:Menlo,'DejaVu Sans Mono',consolas,'Courier New',monospace\"><span style=\"font-weight: bold\"> Non-trainable params: </span><span style=\"color: #00af00; text-decoration-color: #00af00\">0</span> (0.00 B)\n",
       "</pre>\n"
      ],
      "text/plain": [
       "\u001b[1m Non-trainable params: \u001b[0m\u001b[38;5;34m0\u001b[0m (0.00 B)\n"
      ]
     },
     "metadata": {},
     "output_type": "display_data"
    }
   ],
   "source": [
    "model.compile(optimizer='adam',\n",
    "              loss='categorical_crossentropy',\n",
    "              metrics=['accuracy'])\n",
    "\n",
    "model.summary()"
   ]
  },
  {
   "cell_type": "code",
   "execution_count": 251,
   "id": "d4dab624-572c-42cd-bf86-4bad3b3e43ee",
   "metadata": {},
   "outputs": [
    {
     "name": "stdout",
     "output_type": "stream",
     "text": [
      "Epoch 1/15\n",
      "538/538 - 6s - 12ms/step - accuracy: 0.0889 - loss: 8614974.0000\n",
      "Epoch 2/15\n",
      "538/538 - 4s - 7ms/step - accuracy: 0.1009 - loss: 142487296.0000\n",
      "Epoch 3/15\n",
      "538/538 - 5s - 10ms/step - accuracy: 0.1035 - loss: 561194176.0000\n",
      "Epoch 4/15\n",
      "538/538 - 5s - 10ms/step - accuracy: 0.1071 - loss: 1344448000.0000\n",
      "Epoch 5/15\n",
      "538/538 - 5s - 9ms/step - accuracy: 0.1082 - loss: 2465070848.0000\n",
      "Epoch 6/15\n",
      "538/538 - 5s - 9ms/step - accuracy: 0.1045 - loss: 4108389120.0000\n",
      "Epoch 7/15\n",
      "538/538 - 6s - 10ms/step - accuracy: 0.0970 - loss: 6184558080.0000\n",
      "Epoch 8/15\n",
      "538/538 - 4s - 7ms/step - accuracy: 0.0952 - loss: 8832192512.0000\n",
      "Epoch 9/15\n",
      "538/538 - 4s - 8ms/step - accuracy: 0.0920 - loss: 12439024640.0000\n",
      "Epoch 10/15\n",
      "538/538 - 5s - 9ms/step - accuracy: 0.0902 - loss: 16993050624.0000\n",
      "Epoch 11/15\n",
      "538/538 - 4s - 7ms/step - accuracy: 0.0980 - loss: 22191708160.0000\n",
      "Epoch 12/15\n",
      "538/538 - 5s - 9ms/step - accuracy: 0.0952 - loss: 28357001216.0000\n",
      "Epoch 13/15\n",
      "538/538 - 5s - 10ms/step - accuracy: 0.0991 - loss: 35447377920.0000\n",
      "Epoch 14/15\n",
      "538/538 - 5s - 10ms/step - accuracy: 0.0973 - loss: 44925267968.0000\n",
      "Epoch 15/15\n",
      "538/538 - 5s - 9ms/step - accuracy: 0.0970 - loss: 55230529536.0000\n",
      "\u001b[1m538/538\u001b[0m \u001b[32m━━━━━━━━━━━━━━━━━━━━\u001b[0m\u001b[37m\u001b[0m \u001b[1m4s\u001b[0m 6ms/step - accuracy: 0.5571 - loss: 60511637504.0000\n",
      "Loss: 60511637504.0 Accuracy 0.5570532083511353\n"
     ]
    }
   ],
   "source": [
    "epochs = 15\n",
    "batch_size = 32\n",
    "model.fit(X_train, y_train, batch_size=batch_size, epochs=epochs, verbose=2)\n",
    "acc = model.evaluate(X_train,y_train)\n",
    "print('Loss:', acc[0], 'Accuracy', acc[1])"
   ]
  },
  {
   "cell_type": "code",
   "execution_count": 253,
   "id": "99a68962-0ec7-43ab-96bf-48e92442252f",
   "metadata": {},
   "outputs": [],
   "source": [
    "# 3rd confusion matrix\n",
    "\n",
    "def confusion_matrix(y_true, y_pred):\n",
    "    y_true = pd.Series([stations[y] for y in np.argmax(y_true, axis=1)])\n",
    "    y_pred = pd.Series([stations[y] for y in np.argmax(y_pred, axis=1)])\n",
    "\n",
    "    return pd.crosstab(y_true, y_pred, rownames=['True'], colnames=['Pred'])"
   ]
  },
  {
   "cell_type": "code",
   "execution_count": 255,
   "id": "3ed66021-858c-400f-a27a-258eebcd2597",
   "metadata": {
    "scrolled": true
   },
   "outputs": [
    {
     "name": "stdout",
     "output_type": "stream",
     "text": [
      "\u001b[1m180/180\u001b[0m \u001b[32m━━━━━━━━━━━━━━━━━━━━\u001b[0m\u001b[37m\u001b[0m \u001b[1m1s\u001b[0m 5ms/step\n",
      "Pred        BASEL  KASSEL  MADRID  OSLO  VALENTIA\n",
      "True                                             \n",
      "BASEL        3175       7     427    33        40\n",
      "BELGRADE     1092       0       0     0         0\n",
      "BUDAPEST      214       0       0     0         0\n",
      "DEBILT         82       0       0     0         0\n",
      "DUSSELDORF     29       0       0     0         0\n",
      "HEATHROW       82       0       0     0         0\n",
      "KASSEL         11       0       0     0         0\n",
      "LJUBLJANA      61       0       0     0         0\n",
      "MAASTRICHT      9       0       0     0         0\n",
      "MADRID        454       0       4     0         0\n",
      "MUNCHENB        8       0       0     0         0\n",
      "OSLO            5       0       0     0         0\n",
      "STOCKHOLM       4       0       0     0         0\n",
      "VALENTIA        1       0       0     0         0\n"
     ]
    }
   ],
   "source": [
    "#3rd confusion matrix result\n",
    "print(confusion_matrix(y_test, model.predict(X_test)))"
   ]
  },
  {
   "cell_type": "code",
   "execution_count": null,
   "id": "8d702799-475e-4d6a-a13c-9783be147dd4",
   "metadata": {},
   "outputs": [],
   "source": []
  }
 ],
 "metadata": {
  "kernelspec": {
   "display_name": "Python 3 (ipykernel)",
   "language": "python",
   "name": "python3"
  },
  "language_info": {
   "codemirror_mode": {
    "name": "ipython",
    "version": 3
   },
   "file_extension": ".py",
   "mimetype": "text/x-python",
   "name": "python",
   "nbconvert_exporter": "python",
   "pygments_lexer": "ipython3",
   "version": "3.12.3"
  }
 },
 "nbformat": 4,
 "nbformat_minor": 5
}
